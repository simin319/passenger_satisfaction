{
  "cells": [
    {
      "cell_type": "code",
      "execution_count": null,
      "metadata": {
        "colab": {
          "base_uri": "https://localhost:8080/",
          "height": 75,
          "resources": {
            "http://localhost:8080/nbextensions/google.colab/files.js": {
              "data": "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",
              "ok": true,
              "headers": [
                [
                  "content-type",
                  "application/javascript"
                ]
              ],
              "status": 200,
              "status_text": ""
            }
          }
        },
        "id": "9bRHeEW3mSe9",
        "outputId": "baf10103-7771-4bed-a60f-3189abcb304b"
      },
      "outputs": [
        {
          "output_type": "display_data",
          "data": {
            "text/plain": [
              "<IPython.core.display.HTML object>"
            ],
            "text/html": [
              "\n",
              "     <input type=\"file\" id=\"files-4b5ed973-31b7-4c71-bfab-ccdde6daf7a3\" name=\"files[]\" multiple disabled\n",
              "        style=\"border:none\" />\n",
              "     <output id=\"result-4b5ed973-31b7-4c71-bfab-ccdde6daf7a3\">\n",
              "      Upload widget is only available when the cell has been executed in the\n",
              "      current browser session. Please rerun this cell to enable.\n",
              "      </output>\n",
              "      <script src=\"/nbextensions/google.colab/files.js\"></script> "
            ]
          },
          "metadata": {}
        },
        {
          "output_type": "stream",
          "name": "stdout",
          "text": [
            "Saving dataset.xlsx to dataset.xlsx\n"
          ]
        }
      ],
      "source": [
        "from google.colab import files\n",
        "uploaded = files.upload()\n"
      ]
    },
    {
      "cell_type": "code",
      "execution_count": null,
      "metadata": {
        "id": "H5ZVpj59ok35"
      },
      "outputs": [],
      "source": [
        "import io\n",
        "import pandas as pd\n",
        "import numpy as np\n",
        "import seaborn as sns\n",
        "import matplotlib.pyplot as plt\n",
        "\n",
        "df = pd.read_excel(io.BytesIO(uploaded['dataset.xlsx']))"
      ]
    },
    {
      "cell_type": "code",
      "execution_count": null,
      "metadata": {
        "colab": {
          "base_uri": "https://localhost:8080/",
          "height": 713
        },
        "id": "FNIFE_Rvqi9h",
        "outputId": "196b7800-3c44-4ecb-d14f-7a1b170e0158"
      },
      "outputs": [
        {
          "output_type": "execute_result",
          "data": {
            "text/plain": [
              "            id          satisfaction_v2  Gender      Customer Type  Age  \\\n",
              "0        11112                satisfied  Female     Loyal Customer   65   \n",
              "1       110278                satisfied    Male     Loyal Customer   47   \n",
              "2       103199                satisfied  Female     Loyal Customer   15   \n",
              "3        47462                satisfied  Female     Loyal Customer   60   \n",
              "4       120011                satisfied  Female     Loyal Customer   70   \n",
              "...        ...                      ...     ...                ...  ...   \n",
              "129875  119211                satisfied  Female  disloyal Customer   29   \n",
              "129876   97768  neutral or dissatisfied    Male  disloyal Customer   63   \n",
              "129877  125368  neutral or dissatisfied    Male  disloyal Customer   69   \n",
              "129878     251  neutral or dissatisfied    Male  disloyal Customer   66   \n",
              "129879   84566  neutral or dissatisfied  Female  disloyal Customer   38   \n",
              "\n",
              "         Type of Travel     Class  Flight Distance  Seat comfort  \\\n",
              "0       Personal Travel       Eco              265             0   \n",
              "1       Personal Travel  Business             2464             0   \n",
              "2       Personal Travel       Eco             2138             0   \n",
              "3       Personal Travel       Eco              623             0   \n",
              "4       Personal Travel       Eco              354             0   \n",
              "...                 ...       ...              ...           ...   \n",
              "129875  Personal Travel       Eco             1731             5   \n",
              "129876  Personal Travel  Business             2087             2   \n",
              "129877  Personal Travel       Eco             2320             3   \n",
              "129878  Personal Travel       Eco             2450             3   \n",
              "129879  Personal Travel       Eco             4307             3   \n",
              "\n",
              "        Departure/Arrival time convenient  ...  Online support  \\\n",
              "0                                       0  ...               2   \n",
              "1                                       0  ...               2   \n",
              "2                                       0  ...               2   \n",
              "3                                       0  ...               3   \n",
              "4                                       0  ...               4   \n",
              "...                                   ...  ...             ...   \n",
              "129875                                  5  ...               2   \n",
              "129876                                  3  ...               1   \n",
              "129877                                  0  ...               2   \n",
              "129878                                  2  ...               2   \n",
              "129879                                  4  ...               3   \n",
              "\n",
              "        Ease of Online booking  On-board service  Leg room service  \\\n",
              "0                            3                 3                 0   \n",
              "1                            3                 4                 4   \n",
              "2                            2                 3                 3   \n",
              "3                            1                 1                 0   \n",
              "4                            2                 2                 0   \n",
              "...                        ...               ...               ...   \n",
              "129875                       2                 3                 3   \n",
              "129876                       3                 2                 3   \n",
              "129877                       4                 4                 3   \n",
              "129878                       3                 3                 2   \n",
              "129879                       4                 5                 5   \n",
              "\n",
              "        Baggage handling  Checkin service  Cleanliness  Online boarding  \\\n",
              "0                      3                5            3                2   \n",
              "1                      4                2            3                2   \n",
              "2                      4                4            4                2   \n",
              "3                      1                4            1                3   \n",
              "4                      2                4            2                5   \n",
              "...                  ...              ...          ...              ...   \n",
              "129875                 4                4            4                2   \n",
              "129876                 3                1            2                1   \n",
              "129877                 4                2            3                2   \n",
              "129878                 3                2            1                2   \n",
              "129879                 5                3            3                3   \n",
              "\n",
              "        Departure Delay in Minutes  Arrival Delay in Minutes  \n",
              "0                                0                       0.0  \n",
              "1                              310                     305.0  \n",
              "2                                0                       0.0  \n",
              "3                                0                       0.0  \n",
              "4                                0                       0.0  \n",
              "...                            ...                       ...  \n",
              "129875                           0                       0.0  \n",
              "129876                         174                     172.0  \n",
              "129877                         155                     163.0  \n",
              "129878                         193                     205.0  \n",
              "129879                         185                     186.0  \n",
              "\n",
              "[129880 rows x 24 columns]"
            ],
            "text/html": [
              "\n",
              "  <div id=\"df-46592eeb-08a6-48a4-a53c-be790178c513\">\n",
              "    <div class=\"colab-df-container\">\n",
              "      <div>\n",
              "<style scoped>\n",
              "    .dataframe tbody tr th:only-of-type {\n",
              "        vertical-align: middle;\n",
              "    }\n",
              "\n",
              "    .dataframe tbody tr th {\n",
              "        vertical-align: top;\n",
              "    }\n",
              "\n",
              "    .dataframe thead th {\n",
              "        text-align: right;\n",
              "    }\n",
              "</style>\n",
              "<table border=\"1\" class=\"dataframe\">\n",
              "  <thead>\n",
              "    <tr style=\"text-align: right;\">\n",
              "      <th></th>\n",
              "      <th>id</th>\n",
              "      <th>satisfaction_v2</th>\n",
              "      <th>Gender</th>\n",
              "      <th>Customer Type</th>\n",
              "      <th>Age</th>\n",
              "      <th>Type of Travel</th>\n",
              "      <th>Class</th>\n",
              "      <th>Flight Distance</th>\n",
              "      <th>Seat comfort</th>\n",
              "      <th>Departure/Arrival time convenient</th>\n",
              "      <th>...</th>\n",
              "      <th>Online support</th>\n",
              "      <th>Ease of Online booking</th>\n",
              "      <th>On-board service</th>\n",
              "      <th>Leg room service</th>\n",
              "      <th>Baggage handling</th>\n",
              "      <th>Checkin service</th>\n",
              "      <th>Cleanliness</th>\n",
              "      <th>Online boarding</th>\n",
              "      <th>Departure Delay in Minutes</th>\n",
              "      <th>Arrival Delay in Minutes</th>\n",
              "    </tr>\n",
              "  </thead>\n",
              "  <tbody>\n",
              "    <tr>\n",
              "      <th>0</th>\n",
              "      <td>11112</td>\n",
              "      <td>satisfied</td>\n",
              "      <td>Female</td>\n",
              "      <td>Loyal Customer</td>\n",
              "      <td>65</td>\n",
              "      <td>Personal Travel</td>\n",
              "      <td>Eco</td>\n",
              "      <td>265</td>\n",
              "      <td>0</td>\n",
              "      <td>0</td>\n",
              "      <td>...</td>\n",
              "      <td>2</td>\n",
              "      <td>3</td>\n",
              "      <td>3</td>\n",
              "      <td>0</td>\n",
              "      <td>3</td>\n",
              "      <td>5</td>\n",
              "      <td>3</td>\n",
              "      <td>2</td>\n",
              "      <td>0</td>\n",
              "      <td>0.0</td>\n",
              "    </tr>\n",
              "    <tr>\n",
              "      <th>1</th>\n",
              "      <td>110278</td>\n",
              "      <td>satisfied</td>\n",
              "      <td>Male</td>\n",
              "      <td>Loyal Customer</td>\n",
              "      <td>47</td>\n",
              "      <td>Personal Travel</td>\n",
              "      <td>Business</td>\n",
              "      <td>2464</td>\n",
              "      <td>0</td>\n",
              "      <td>0</td>\n",
              "      <td>...</td>\n",
              "      <td>2</td>\n",
              "      <td>3</td>\n",
              "      <td>4</td>\n",
              "      <td>4</td>\n",
              "      <td>4</td>\n",
              "      <td>2</td>\n",
              "      <td>3</td>\n",
              "      <td>2</td>\n",
              "      <td>310</td>\n",
              "      <td>305.0</td>\n",
              "    </tr>\n",
              "    <tr>\n",
              "      <th>2</th>\n",
              "      <td>103199</td>\n",
              "      <td>satisfied</td>\n",
              "      <td>Female</td>\n",
              "      <td>Loyal Customer</td>\n",
              "      <td>15</td>\n",
              "      <td>Personal Travel</td>\n",
              "      <td>Eco</td>\n",
              "      <td>2138</td>\n",
              "      <td>0</td>\n",
              "      <td>0</td>\n",
              "      <td>...</td>\n",
              "      <td>2</td>\n",
              "      <td>2</td>\n",
              "      <td>3</td>\n",
              "      <td>3</td>\n",
              "      <td>4</td>\n",
              "      <td>4</td>\n",
              "      <td>4</td>\n",
              "      <td>2</td>\n",
              "      <td>0</td>\n",
              "      <td>0.0</td>\n",
              "    </tr>\n",
              "    <tr>\n",
              "      <th>3</th>\n",
              "      <td>47462</td>\n",
              "      <td>satisfied</td>\n",
              "      <td>Female</td>\n",
              "      <td>Loyal Customer</td>\n",
              "      <td>60</td>\n",
              "      <td>Personal Travel</td>\n",
              "      <td>Eco</td>\n",
              "      <td>623</td>\n",
              "      <td>0</td>\n",
              "      <td>0</td>\n",
              "      <td>...</td>\n",
              "      <td>3</td>\n",
              "      <td>1</td>\n",
              "      <td>1</td>\n",
              "      <td>0</td>\n",
              "      <td>1</td>\n",
              "      <td>4</td>\n",
              "      <td>1</td>\n",
              "      <td>3</td>\n",
              "      <td>0</td>\n",
              "      <td>0.0</td>\n",
              "    </tr>\n",
              "    <tr>\n",
              "      <th>4</th>\n",
              "      <td>120011</td>\n",
              "      <td>satisfied</td>\n",
              "      <td>Female</td>\n",
              "      <td>Loyal Customer</td>\n",
              "      <td>70</td>\n",
              "      <td>Personal Travel</td>\n",
              "      <td>Eco</td>\n",
              "      <td>354</td>\n",
              "      <td>0</td>\n",
              "      <td>0</td>\n",
              "      <td>...</td>\n",
              "      <td>4</td>\n",
              "      <td>2</td>\n",
              "      <td>2</td>\n",
              "      <td>0</td>\n",
              "      <td>2</td>\n",
              "      <td>4</td>\n",
              "      <td>2</td>\n",
              "      <td>5</td>\n",
              "      <td>0</td>\n",
              "      <td>0.0</td>\n",
              "    </tr>\n",
              "    <tr>\n",
              "      <th>...</th>\n",
              "      <td>...</td>\n",
              "      <td>...</td>\n",
              "      <td>...</td>\n",
              "      <td>...</td>\n",
              "      <td>...</td>\n",
              "      <td>...</td>\n",
              "      <td>...</td>\n",
              "      <td>...</td>\n",
              "      <td>...</td>\n",
              "      <td>...</td>\n",
              "      <td>...</td>\n",
              "      <td>...</td>\n",
              "      <td>...</td>\n",
              "      <td>...</td>\n",
              "      <td>...</td>\n",
              "      <td>...</td>\n",
              "      <td>...</td>\n",
              "      <td>...</td>\n",
              "      <td>...</td>\n",
              "      <td>...</td>\n",
              "      <td>...</td>\n",
              "    </tr>\n",
              "    <tr>\n",
              "      <th>129875</th>\n",
              "      <td>119211</td>\n",
              "      <td>satisfied</td>\n",
              "      <td>Female</td>\n",
              "      <td>disloyal Customer</td>\n",
              "      <td>29</td>\n",
              "      <td>Personal Travel</td>\n",
              "      <td>Eco</td>\n",
              "      <td>1731</td>\n",
              "      <td>5</td>\n",
              "      <td>5</td>\n",
              "      <td>...</td>\n",
              "      <td>2</td>\n",
              "      <td>2</td>\n",
              "      <td>3</td>\n",
              "      <td>3</td>\n",
              "      <td>4</td>\n",
              "      <td>4</td>\n",
              "      <td>4</td>\n",
              "      <td>2</td>\n",
              "      <td>0</td>\n",
              "      <td>0.0</td>\n",
              "    </tr>\n",
              "    <tr>\n",
              "      <th>129876</th>\n",
              "      <td>97768</td>\n",
              "      <td>neutral or dissatisfied</td>\n",
              "      <td>Male</td>\n",
              "      <td>disloyal Customer</td>\n",
              "      <td>63</td>\n",
              "      <td>Personal Travel</td>\n",
              "      <td>Business</td>\n",
              "      <td>2087</td>\n",
              "      <td>2</td>\n",
              "      <td>3</td>\n",
              "      <td>...</td>\n",
              "      <td>1</td>\n",
              "      <td>3</td>\n",
              "      <td>2</td>\n",
              "      <td>3</td>\n",
              "      <td>3</td>\n",
              "      <td>1</td>\n",
              "      <td>2</td>\n",
              "      <td>1</td>\n",
              "      <td>174</td>\n",
              "      <td>172.0</td>\n",
              "    </tr>\n",
              "    <tr>\n",
              "      <th>129877</th>\n",
              "      <td>125368</td>\n",
              "      <td>neutral or dissatisfied</td>\n",
              "      <td>Male</td>\n",
              "      <td>disloyal Customer</td>\n",
              "      <td>69</td>\n",
              "      <td>Personal Travel</td>\n",
              "      <td>Eco</td>\n",
              "      <td>2320</td>\n",
              "      <td>3</td>\n",
              "      <td>0</td>\n",
              "      <td>...</td>\n",
              "      <td>2</td>\n",
              "      <td>4</td>\n",
              "      <td>4</td>\n",
              "      <td>3</td>\n",
              "      <td>4</td>\n",
              "      <td>2</td>\n",
              "      <td>3</td>\n",
              "      <td>2</td>\n",
              "      <td>155</td>\n",
              "      <td>163.0</td>\n",
              "    </tr>\n",
              "    <tr>\n",
              "      <th>129878</th>\n",
              "      <td>251</td>\n",
              "      <td>neutral or dissatisfied</td>\n",
              "      <td>Male</td>\n",
              "      <td>disloyal Customer</td>\n",
              "      <td>66</td>\n",
              "      <td>Personal Travel</td>\n",
              "      <td>Eco</td>\n",
              "      <td>2450</td>\n",
              "      <td>3</td>\n",
              "      <td>2</td>\n",
              "      <td>...</td>\n",
              "      <td>2</td>\n",
              "      <td>3</td>\n",
              "      <td>3</td>\n",
              "      <td>2</td>\n",
              "      <td>3</td>\n",
              "      <td>2</td>\n",
              "      <td>1</td>\n",
              "      <td>2</td>\n",
              "      <td>193</td>\n",
              "      <td>205.0</td>\n",
              "    </tr>\n",
              "    <tr>\n",
              "      <th>129879</th>\n",
              "      <td>84566</td>\n",
              "      <td>neutral or dissatisfied</td>\n",
              "      <td>Female</td>\n",
              "      <td>disloyal Customer</td>\n",
              "      <td>38</td>\n",
              "      <td>Personal Travel</td>\n",
              "      <td>Eco</td>\n",
              "      <td>4307</td>\n",
              "      <td>3</td>\n",
              "      <td>4</td>\n",
              "      <td>...</td>\n",
              "      <td>3</td>\n",
              "      <td>4</td>\n",
              "      <td>5</td>\n",
              "      <td>5</td>\n",
              "      <td>5</td>\n",
              "      <td>3</td>\n",
              "      <td>3</td>\n",
              "      <td>3</td>\n",
              "      <td>185</td>\n",
              "      <td>186.0</td>\n",
              "    </tr>\n",
              "  </tbody>\n",
              "</table>\n",
              "<p>129880 rows × 24 columns</p>\n",
              "</div>\n",
              "      <button class=\"colab-df-convert\" onclick=\"convertToInteractive('df-46592eeb-08a6-48a4-a53c-be790178c513')\"\n",
              "              title=\"Convert this dataframe to an interactive table.\"\n",
              "              style=\"display:none;\">\n",
              "        \n",
              "  <svg xmlns=\"http://www.w3.org/2000/svg\" height=\"24px\"viewBox=\"0 0 24 24\"\n",
              "       width=\"24px\">\n",
              "    <path d=\"M0 0h24v24H0V0z\" fill=\"none\"/>\n",
              "    <path d=\"M18.56 5.44l.94 2.06.94-2.06 2.06-.94-2.06-.94-.94-2.06-.94 2.06-2.06.94zm-11 1L8.5 8.5l.94-2.06 2.06-.94-2.06-.94L8.5 2.5l-.94 2.06-2.06.94zm10 10l.94 2.06.94-2.06 2.06-.94-2.06-.94-.94-2.06-.94 2.06-2.06.94z\"/><path d=\"M17.41 7.96l-1.37-1.37c-.4-.4-.92-.59-1.43-.59-.52 0-1.04.2-1.43.59L10.3 9.45l-7.72 7.72c-.78.78-.78 2.05 0 2.83L4 21.41c.39.39.9.59 1.41.59.51 0 1.02-.2 1.41-.59l7.78-7.78 2.81-2.81c.8-.78.8-2.07 0-2.86zM5.41 20L4 18.59l7.72-7.72 1.47 1.35L5.41 20z\"/>\n",
              "  </svg>\n",
              "      </button>\n",
              "      \n",
              "  <style>\n",
              "    .colab-df-container {\n",
              "      display:flex;\n",
              "      flex-wrap:wrap;\n",
              "      gap: 12px;\n",
              "    }\n",
              "\n",
              "    .colab-df-convert {\n",
              "      background-color: #E8F0FE;\n",
              "      border: none;\n",
              "      border-radius: 50%;\n",
              "      cursor: pointer;\n",
              "      display: none;\n",
              "      fill: #1967D2;\n",
              "      height: 32px;\n",
              "      padding: 0 0 0 0;\n",
              "      width: 32px;\n",
              "    }\n",
              "\n",
              "    .colab-df-convert:hover {\n",
              "      background-color: #E2EBFA;\n",
              "      box-shadow: 0px 1px 2px rgba(60, 64, 67, 0.3), 0px 1px 3px 1px rgba(60, 64, 67, 0.15);\n",
              "      fill: #174EA6;\n",
              "    }\n",
              "\n",
              "    [theme=dark] .colab-df-convert {\n",
              "      background-color: #3B4455;\n",
              "      fill: #D2E3FC;\n",
              "    }\n",
              "\n",
              "    [theme=dark] .colab-df-convert:hover {\n",
              "      background-color: #434B5C;\n",
              "      box-shadow: 0px 1px 3px 1px rgba(0, 0, 0, 0.15);\n",
              "      filter: drop-shadow(0px 1px 2px rgba(0, 0, 0, 0.3));\n",
              "      fill: #FFFFFF;\n",
              "    }\n",
              "  </style>\n",
              "\n",
              "      <script>\n",
              "        const buttonEl =\n",
              "          document.querySelector('#df-46592eeb-08a6-48a4-a53c-be790178c513 button.colab-df-convert');\n",
              "        buttonEl.style.display =\n",
              "          google.colab.kernel.accessAllowed ? 'block' : 'none';\n",
              "\n",
              "        async function convertToInteractive(key) {\n",
              "          const element = document.querySelector('#df-46592eeb-08a6-48a4-a53c-be790178c513');\n",
              "          const dataTable =\n",
              "            await google.colab.kernel.invokeFunction('convertToInteractive',\n",
              "                                                     [key], {});\n",
              "          if (!dataTable) return;\n",
              "\n",
              "          const docLinkHtml = 'Like what you see? Visit the ' +\n",
              "            '<a target=\"_blank\" href=https://colab.research.google.com/notebooks/data_table.ipynb>data table notebook</a>'\n",
              "            + ' to learn more about interactive tables.';\n",
              "          element.innerHTML = '';\n",
              "          dataTable['output_type'] = 'display_data';\n",
              "          await google.colab.output.renderOutput(dataTable, element);\n",
              "          const docLink = document.createElement('div');\n",
              "          docLink.innerHTML = docLinkHtml;\n",
              "          element.appendChild(docLink);\n",
              "        }\n",
              "      </script>\n",
              "    </div>\n",
              "  </div>\n",
              "  "
            ]
          },
          "metadata": {},
          "execution_count": 4
        }
      ],
      "source": [
        "df.head(129880)"
      ]
    },
    {
      "cell_type": "code",
      "execution_count": null,
      "metadata": {
        "colab": {
          "base_uri": "https://localhost:8080/",
          "height": 883
        },
        "id": "oriIaS4p1TAF",
        "outputId": "8152be03-aefa-4ebf-de30-2417b2722a60"
      },
      "outputs": [
        {
          "output_type": "execute_result",
          "data": {
            "text/plain": [
              "                                         id       Age  Flight Distance  \\\n",
              "id                                 1.000000  0.020322         0.054986   \n",
              "Age                                0.020322  1.000000        -0.249625   \n",
              "Flight Distance                    0.054986 -0.249625         1.000000   \n",
              "Seat comfort                      -0.019559  0.008784        -0.042409   \n",
              "Departure/Arrival time convenient  0.001293  0.039055         0.001350   \n",
              "Food and drink                     0.012607  0.015749        -0.004649   \n",
              "Gate location                      0.000669 -0.000547        -0.002409   \n",
              "Inflight wifi service             -0.000384  0.013965         0.012230   \n",
              "Inflight entertainment             0.054693  0.130511        -0.027542   \n",
              "Online support                     0.054023  0.121201        -0.032022   \n",
              "Ease of Online booking             0.000830  0.071594        -0.022299   \n",
              "On-board service                   0.055978  0.066704        -0.032559   \n",
              "Leg room service                   0.042325  0.083762        -0.030316   \n",
              "Baggage handling                   0.074625 -0.015452         0.019768   \n",
              "Checkin service                    0.082644  0.031845         0.002456   \n",
              "Cleanliness                        0.080834 -0.018271         0.009432   \n",
              "Online boarding                    0.025328  0.037973         0.009604   \n",
              "Departure Delay in Minutes        -0.017643 -0.009041         0.112555   \n",
              "Arrival Delay in Minutes          -0.035657 -0.011248         0.110103   \n",
              "\n",
              "                                   Seat comfort  \\\n",
              "id                                    -0.019559   \n",
              "Age                                    0.008784   \n",
              "Flight Distance                       -0.042409   \n",
              "Seat comfort                           1.000000   \n",
              "Departure/Arrival time convenient      0.434951   \n",
              "Food and drink                         0.715997   \n",
              "Gate location                          0.405300   \n",
              "Inflight wifi service                  0.129131   \n",
              "Inflight entertainment                 0.426447   \n",
              "Online support                         0.120278   \n",
              "Ease of Online booking                 0.211531   \n",
              "On-board service                       0.121149   \n",
              "Leg room service                       0.136136   \n",
              "Baggage handling                       0.118489   \n",
              "Checkin service                        0.041214   \n",
              "Cleanliness                            0.108475   \n",
              "Online boarding                        0.130396   \n",
              "Departure Delay in Minutes            -0.023817   \n",
              "Arrival Delay in Minutes              -0.025506   \n",
              "\n",
              "                                   Departure/Arrival time convenient  \\\n",
              "id                                                          0.001293   \n",
              "Age                                                         0.039055   \n",
              "Flight Distance                                             0.001350   \n",
              "Seat comfort                                                0.434951   \n",
              "Departure/Arrival time convenient                           1.000000   \n",
              "Food and drink                                              0.527381   \n",
              "Gate location                                               0.544259   \n",
              "Inflight wifi service                                      -0.001974   \n",
              "Inflight entertainment                                      0.077203   \n",
              "Online support                                             -0.000546   \n",
              "Ease of Online booking                                      0.001755   \n",
              "On-board service                                            0.060446   \n",
              "Leg room service                                            0.029422   \n",
              "Baggage handling                                            0.067396   \n",
              "Checkin service                                             0.062794   \n",
              "Cleanliness                                                 0.067126   \n",
              "Online boarding                                            -0.000623   \n",
              "Departure Delay in Minutes                                  0.004395   \n",
              "Arrival Delay in Minutes                                    0.002599   \n",
              "\n",
              "                                   Food and drink  Gate location  \\\n",
              "id                                       0.012607       0.000669   \n",
              "Age                                      0.015749      -0.000547   \n",
              "Flight Distance                         -0.004649      -0.002409   \n",
              "Seat comfort                             0.715997       0.405300   \n",
              "Departure/Arrival time convenient        0.527381       0.544259   \n",
              "Food and drink                           1.000000       0.523328   \n",
              "Gate location                            0.523328       1.000000   \n",
              "Inflight wifi service                    0.025917      -0.004086   \n",
              "Inflight entertainment                   0.367669      -0.000280   \n",
              "Online support                           0.028554       0.002908   \n",
              "Ease of Online booking                   0.041189       0.001442   \n",
              "On-board service                         0.038646      -0.025132   \n",
              "Leg room service                         0.074161      -0.007407   \n",
              "Baggage handling                         0.036370      -0.000401   \n",
              "Checkin service                          0.011898      -0.031859   \n",
              "Cleanliness                              0.033416      -0.001705   \n",
              "Online boarding                          0.013587      -0.003043   \n",
              "Departure Delay in Minutes              -0.013433       0.003962   \n",
              "Arrival Delay in Minutes                -0.014881       0.003640   \n",
              "\n",
              "                                   Inflight wifi service  \\\n",
              "id                                             -0.000384   \n",
              "Age                                             0.013965   \n",
              "Flight Distance                                 0.012230   \n",
              "Seat comfort                                    0.129131   \n",
              "Departure/Arrival time convenient              -0.001974   \n",
              "Food and drink                                  0.025917   \n",
              "Gate location                                  -0.004086   \n",
              "Inflight wifi service                           1.000000   \n",
              "Inflight entertainment                          0.253823   \n",
              "Online support                                  0.557340   \n",
              "Ease of Online booking                          0.601100   \n",
              "On-board service                                0.060794   \n",
              "Leg room service                                0.033589   \n",
              "Baggage handling                                0.038251   \n",
              "Checkin service                                 0.092508   \n",
              "Cleanliness                                     0.038263   \n",
              "Online boarding                                 0.631786   \n",
              "Departure Delay in Minutes                     -0.032900   \n",
              "Arrival Delay in Minutes                       -0.035270   \n",
              "\n",
              "                                   Inflight entertainment  Online support  \\\n",
              "id                                               0.054693        0.054023   \n",
              "Age                                              0.130511        0.121201   \n",
              "Flight Distance                                 -0.027542       -0.032022   \n",
              "Seat comfort                                     0.426447        0.120278   \n",
              "Departure/Arrival time convenient                0.077203       -0.000546   \n",
              "Food and drink                                   0.367669        0.028554   \n",
              "Gate location                                   -0.000280        0.002908   \n",
              "Inflight wifi service                            0.253823        0.557340   \n",
              "Inflight entertainment                           1.000000        0.441957   \n",
              "Online support                                   0.441957        1.000000   \n",
              "Ease of Online booking                           0.321731        0.617489   \n",
              "On-board service                                 0.183912        0.157930   \n",
              "Leg room service                                 0.160731        0.138433   \n",
              "Baggage handling                                 0.117213        0.102444   \n",
              "Checkin service                                  0.224120        0.206824   \n",
              "Cleanliness                                      0.109451        0.095726   \n",
              "Online boarding                                  0.355714        0.669843   \n",
              "Departure Delay in Minutes                      -0.030491       -0.034018   \n",
              "Arrival Delay in Minutes                        -0.033321       -0.036087   \n",
              "\n",
              "                                   Ease of Online booking  On-board service  \\\n",
              "id                                               0.000830          0.055978   \n",
              "Age                                              0.071594          0.066704   \n",
              "Flight Distance                                 -0.022299         -0.032559   \n",
              "Seat comfort                                     0.211531          0.121149   \n",
              "Departure/Arrival time convenient                0.001755          0.060446   \n",
              "Food and drink                                   0.041189          0.038646   \n",
              "Gate location                                    0.001442         -0.025132   \n",
              "Inflight wifi service                            0.601100          0.060794   \n",
              "Inflight entertainment                           0.321731          0.183912   \n",
              "Online support                                   0.617489          0.157930   \n",
              "Ease of Online booking                           1.000000          0.436264   \n",
              "On-board service                                 0.436264          1.000000   \n",
              "Leg room service                                 0.355122          0.411746   \n",
              "Baggage handling                                 0.398322          0.530448   \n",
              "Checkin service                                  0.137744          0.250839   \n",
              "Cleanliness                                      0.417675          0.551294   \n",
              "Online boarding                                  0.684320          0.139506   \n",
              "Departure Delay in Minutes                      -0.036545         -0.037641   \n",
              "Arrival Delay in Minutes                        -0.039806         -0.041456   \n",
              "\n",
              "                                   Leg room service  Baggage handling  \\\n",
              "id                                         0.042325          0.074625   \n",
              "Age                                        0.083762         -0.015452   \n",
              "Flight Distance                           -0.030316          0.019768   \n",
              "Seat comfort                               0.136136          0.118489   \n",
              "Departure/Arrival time convenient          0.029422          0.067396   \n",
              "Food and drink                             0.074161          0.036370   \n",
              "Gate location                             -0.007407         -0.000401   \n",
              "Inflight wifi service                      0.033589          0.038251   \n",
              "Inflight entertainment                     0.160731          0.117213   \n",
              "Online support                             0.138433          0.102444   \n",
              "Ease of Online booking                     0.355122          0.398322   \n",
              "On-board service                           0.411746          0.530448   \n",
              "Leg room service                           1.000000          0.411640   \n",
              "Baggage handling                           0.411640          1.000000   \n",
              "Checkin service                            0.167942          0.240858   \n",
              "Cleanliness                                0.411505          0.631803   \n",
              "Online boarding                            0.112900          0.111920   \n",
              "Departure Delay in Minutes                 0.003660         -0.009985   \n",
              "Arrival Delay in Minutes                   0.000472         -0.014164   \n",
              "\n",
              "                                   Checkin service  Cleanliness  \\\n",
              "id                                        0.082644     0.080834   \n",
              "Age                                       0.031845    -0.018271   \n",
              "Flight Distance                           0.002456     0.009432   \n",
              "Seat comfort                              0.041214     0.108475   \n",
              "Departure/Arrival time convenient         0.062794     0.067126   \n",
              "Food and drink                            0.011898     0.033416   \n",
              "Gate location                            -0.031859    -0.001705   \n",
              "Inflight wifi service                     0.092508     0.038263   \n",
              "Inflight entertainment                    0.224120     0.109451   \n",
              "Online support                            0.206824     0.095726   \n",
              "Ease of Online booking                    0.137744     0.417675   \n",
              "On-board service                          0.250839     0.551294   \n",
              "Leg room service                          0.167942     0.411505   \n",
              "Baggage handling                          0.240858     0.631803   \n",
              "Checkin service                           1.000000     0.241734   \n",
              "Cleanliness                               0.241734     1.000000   \n",
              "Online boarding                           0.184344     0.106238   \n",
              "Departure Delay in Minutes               -0.020896    -0.062134   \n",
              "Arrival Delay in Minutes                 -0.023860    -0.067208   \n",
              "\n",
              "                                   Online boarding  \\\n",
              "id                                        0.025328   \n",
              "Age                                       0.037973   \n",
              "Flight Distance                           0.009604   \n",
              "Seat comfort                              0.130396   \n",
              "Departure/Arrival time convenient        -0.000623   \n",
              "Food and drink                            0.013587   \n",
              "Gate location                            -0.003043   \n",
              "Inflight wifi service                     0.631786   \n",
              "Inflight entertainment                    0.355714   \n",
              "Online support                            0.669843   \n",
              "Ease of Online booking                    0.684320   \n",
              "On-board service                          0.139506   \n",
              "Leg room service                          0.112900   \n",
              "Baggage handling                          0.111920   \n",
              "Checkin service                           0.184344   \n",
              "Cleanliness                               0.106238   \n",
              "Online boarding                           1.000000   \n",
              "Departure Delay in Minutes               -0.020045   \n",
              "Arrival Delay in Minutes                 -0.021784   \n",
              "\n",
              "                                   Departure Delay in Minutes  \\\n",
              "id                                                  -0.017643   \n",
              "Age                                                 -0.009041   \n",
              "Flight Distance                                      0.112555   \n",
              "Seat comfort                                        -0.023817   \n",
              "Departure/Arrival time convenient                    0.004395   \n",
              "Food and drink                                      -0.013433   \n",
              "Gate location                                        0.003962   \n",
              "Inflight wifi service                               -0.032900   \n",
              "Inflight entertainment                              -0.030491   \n",
              "Online support                                      -0.034018   \n",
              "Ease of Online booking                              -0.036545   \n",
              "On-board service                                    -0.037641   \n",
              "Leg room service                                     0.003660   \n",
              "Baggage handling                                    -0.009985   \n",
              "Checkin service                                     -0.020896   \n",
              "Cleanliness                                         -0.062134   \n",
              "Online boarding                                     -0.020045   \n",
              "Departure Delay in Minutes                           1.000000   \n",
              "Arrival Delay in Minutes                             0.965291   \n",
              "\n",
              "                                   Arrival Delay in Minutes  \n",
              "id                                                -0.035657  \n",
              "Age                                               -0.011248  \n",
              "Flight Distance                                    0.110103  \n",
              "Seat comfort                                      -0.025506  \n",
              "Departure/Arrival time convenient                  0.002599  \n",
              "Food and drink                                    -0.014881  \n",
              "Gate location                                      0.003640  \n",
              "Inflight wifi service                             -0.035270  \n",
              "Inflight entertainment                            -0.033321  \n",
              "Online support                                    -0.036087  \n",
              "Ease of Online booking                            -0.039806  \n",
              "On-board service                                  -0.041456  \n",
              "Leg room service                                   0.000472  \n",
              "Baggage handling                                  -0.014164  \n",
              "Checkin service                                   -0.023860  \n",
              "Cleanliness                                       -0.067208  \n",
              "Online boarding                                   -0.021784  \n",
              "Departure Delay in Minutes                         0.965291  \n",
              "Arrival Delay in Minutes                           1.000000  "
            ],
            "text/html": [
              "\n",
              "  <div id=\"df-62b2433d-6ddc-4b30-b8cb-6966b4864c67\">\n",
              "    <div class=\"colab-df-container\">\n",
              "      <div>\n",
              "<style scoped>\n",
              "    .dataframe tbody tr th:only-of-type {\n",
              "        vertical-align: middle;\n",
              "    }\n",
              "\n",
              "    .dataframe tbody tr th {\n",
              "        vertical-align: top;\n",
              "    }\n",
              "\n",
              "    .dataframe thead th {\n",
              "        text-align: right;\n",
              "    }\n",
              "</style>\n",
              "<table border=\"1\" class=\"dataframe\">\n",
              "  <thead>\n",
              "    <tr style=\"text-align: right;\">\n",
              "      <th></th>\n",
              "      <th>id</th>\n",
              "      <th>Age</th>\n",
              "      <th>Flight Distance</th>\n",
              "      <th>Seat comfort</th>\n",
              "      <th>Departure/Arrival time convenient</th>\n",
              "      <th>Food and drink</th>\n",
              "      <th>Gate location</th>\n",
              "      <th>Inflight wifi service</th>\n",
              "      <th>Inflight entertainment</th>\n",
              "      <th>Online support</th>\n",
              "      <th>Ease of Online booking</th>\n",
              "      <th>On-board service</th>\n",
              "      <th>Leg room service</th>\n",
              "      <th>Baggage handling</th>\n",
              "      <th>Checkin service</th>\n",
              "      <th>Cleanliness</th>\n",
              "      <th>Online boarding</th>\n",
              "      <th>Departure Delay in Minutes</th>\n",
              "      <th>Arrival Delay in Minutes</th>\n",
              "    </tr>\n",
              "  </thead>\n",
              "  <tbody>\n",
              "    <tr>\n",
              "      <th>id</th>\n",
              "      <td>1.000000</td>\n",
              "      <td>0.020322</td>\n",
              "      <td>0.054986</td>\n",
              "      <td>-0.019559</td>\n",
              "      <td>0.001293</td>\n",
              "      <td>0.012607</td>\n",
              "      <td>0.000669</td>\n",
              "      <td>-0.000384</td>\n",
              "      <td>0.054693</td>\n",
              "      <td>0.054023</td>\n",
              "      <td>0.000830</td>\n",
              "      <td>0.055978</td>\n",
              "      <td>0.042325</td>\n",
              "      <td>0.074625</td>\n",
              "      <td>0.082644</td>\n",
              "      <td>0.080834</td>\n",
              "      <td>0.025328</td>\n",
              "      <td>-0.017643</td>\n",
              "      <td>-0.035657</td>\n",
              "    </tr>\n",
              "    <tr>\n",
              "      <th>Age</th>\n",
              "      <td>0.020322</td>\n",
              "      <td>1.000000</td>\n",
              "      <td>-0.249625</td>\n",
              "      <td>0.008784</td>\n",
              "      <td>0.039055</td>\n",
              "      <td>0.015749</td>\n",
              "      <td>-0.000547</td>\n",
              "      <td>0.013965</td>\n",
              "      <td>0.130511</td>\n",
              "      <td>0.121201</td>\n",
              "      <td>0.071594</td>\n",
              "      <td>0.066704</td>\n",
              "      <td>0.083762</td>\n",
              "      <td>-0.015452</td>\n",
              "      <td>0.031845</td>\n",
              "      <td>-0.018271</td>\n",
              "      <td>0.037973</td>\n",
              "      <td>-0.009041</td>\n",
              "      <td>-0.011248</td>\n",
              "    </tr>\n",
              "    <tr>\n",
              "      <th>Flight Distance</th>\n",
              "      <td>0.054986</td>\n",
              "      <td>-0.249625</td>\n",
              "      <td>1.000000</td>\n",
              "      <td>-0.042409</td>\n",
              "      <td>0.001350</td>\n",
              "      <td>-0.004649</td>\n",
              "      <td>-0.002409</td>\n",
              "      <td>0.012230</td>\n",
              "      <td>-0.027542</td>\n",
              "      <td>-0.032022</td>\n",
              "      <td>-0.022299</td>\n",
              "      <td>-0.032559</td>\n",
              "      <td>-0.030316</td>\n",
              "      <td>0.019768</td>\n",
              "      <td>0.002456</td>\n",
              "      <td>0.009432</td>\n",
              "      <td>0.009604</td>\n",
              "      <td>0.112555</td>\n",
              "      <td>0.110103</td>\n",
              "    </tr>\n",
              "    <tr>\n",
              "      <th>Seat comfort</th>\n",
              "      <td>-0.019559</td>\n",
              "      <td>0.008784</td>\n",
              "      <td>-0.042409</td>\n",
              "      <td>1.000000</td>\n",
              "      <td>0.434951</td>\n",
              "      <td>0.715997</td>\n",
              "      <td>0.405300</td>\n",
              "      <td>0.129131</td>\n",
              "      <td>0.426447</td>\n",
              "      <td>0.120278</td>\n",
              "      <td>0.211531</td>\n",
              "      <td>0.121149</td>\n",
              "      <td>0.136136</td>\n",
              "      <td>0.118489</td>\n",
              "      <td>0.041214</td>\n",
              "      <td>0.108475</td>\n",
              "      <td>0.130396</td>\n",
              "      <td>-0.023817</td>\n",
              "      <td>-0.025506</td>\n",
              "    </tr>\n",
              "    <tr>\n",
              "      <th>Departure/Arrival time convenient</th>\n",
              "      <td>0.001293</td>\n",
              "      <td>0.039055</td>\n",
              "      <td>0.001350</td>\n",
              "      <td>0.434951</td>\n",
              "      <td>1.000000</td>\n",
              "      <td>0.527381</td>\n",
              "      <td>0.544259</td>\n",
              "      <td>-0.001974</td>\n",
              "      <td>0.077203</td>\n",
              "      <td>-0.000546</td>\n",
              "      <td>0.001755</td>\n",
              "      <td>0.060446</td>\n",
              "      <td>0.029422</td>\n",
              "      <td>0.067396</td>\n",
              "      <td>0.062794</td>\n",
              "      <td>0.067126</td>\n",
              "      <td>-0.000623</td>\n",
              "      <td>0.004395</td>\n",
              "      <td>0.002599</td>\n",
              "    </tr>\n",
              "    <tr>\n",
              "      <th>Food and drink</th>\n",
              "      <td>0.012607</td>\n",
              "      <td>0.015749</td>\n",
              "      <td>-0.004649</td>\n",
              "      <td>0.715997</td>\n",
              "      <td>0.527381</td>\n",
              "      <td>1.000000</td>\n",
              "      <td>0.523328</td>\n",
              "      <td>0.025917</td>\n",
              "      <td>0.367669</td>\n",
              "      <td>0.028554</td>\n",
              "      <td>0.041189</td>\n",
              "      <td>0.038646</td>\n",
              "      <td>0.074161</td>\n",
              "      <td>0.036370</td>\n",
              "      <td>0.011898</td>\n",
              "      <td>0.033416</td>\n",
              "      <td>0.013587</td>\n",
              "      <td>-0.013433</td>\n",
              "      <td>-0.014881</td>\n",
              "    </tr>\n",
              "    <tr>\n",
              "      <th>Gate location</th>\n",
              "      <td>0.000669</td>\n",
              "      <td>-0.000547</td>\n",
              "      <td>-0.002409</td>\n",
              "      <td>0.405300</td>\n",
              "      <td>0.544259</td>\n",
              "      <td>0.523328</td>\n",
              "      <td>1.000000</td>\n",
              "      <td>-0.004086</td>\n",
              "      <td>-0.000280</td>\n",
              "      <td>0.002908</td>\n",
              "      <td>0.001442</td>\n",
              "      <td>-0.025132</td>\n",
              "      <td>-0.007407</td>\n",
              "      <td>-0.000401</td>\n",
              "      <td>-0.031859</td>\n",
              "      <td>-0.001705</td>\n",
              "      <td>-0.003043</td>\n",
              "      <td>0.003962</td>\n",
              "      <td>0.003640</td>\n",
              "    </tr>\n",
              "    <tr>\n",
              "      <th>Inflight wifi service</th>\n",
              "      <td>-0.000384</td>\n",
              "      <td>0.013965</td>\n",
              "      <td>0.012230</td>\n",
              "      <td>0.129131</td>\n",
              "      <td>-0.001974</td>\n",
              "      <td>0.025917</td>\n",
              "      <td>-0.004086</td>\n",
              "      <td>1.000000</td>\n",
              "      <td>0.253823</td>\n",
              "      <td>0.557340</td>\n",
              "      <td>0.601100</td>\n",
              "      <td>0.060794</td>\n",
              "      <td>0.033589</td>\n",
              "      <td>0.038251</td>\n",
              "      <td>0.092508</td>\n",
              "      <td>0.038263</td>\n",
              "      <td>0.631786</td>\n",
              "      <td>-0.032900</td>\n",
              "      <td>-0.035270</td>\n",
              "    </tr>\n",
              "    <tr>\n",
              "      <th>Inflight entertainment</th>\n",
              "      <td>0.054693</td>\n",
              "      <td>0.130511</td>\n",
              "      <td>-0.027542</td>\n",
              "      <td>0.426447</td>\n",
              "      <td>0.077203</td>\n",
              "      <td>0.367669</td>\n",
              "      <td>-0.000280</td>\n",
              "      <td>0.253823</td>\n",
              "      <td>1.000000</td>\n",
              "      <td>0.441957</td>\n",
              "      <td>0.321731</td>\n",
              "      <td>0.183912</td>\n",
              "      <td>0.160731</td>\n",
              "      <td>0.117213</td>\n",
              "      <td>0.224120</td>\n",
              "      <td>0.109451</td>\n",
              "      <td>0.355714</td>\n",
              "      <td>-0.030491</td>\n",
              "      <td>-0.033321</td>\n",
              "    </tr>\n",
              "    <tr>\n",
              "      <th>Online support</th>\n",
              "      <td>0.054023</td>\n",
              "      <td>0.121201</td>\n",
              "      <td>-0.032022</td>\n",
              "      <td>0.120278</td>\n",
              "      <td>-0.000546</td>\n",
              "      <td>0.028554</td>\n",
              "      <td>0.002908</td>\n",
              "      <td>0.557340</td>\n",
              "      <td>0.441957</td>\n",
              "      <td>1.000000</td>\n",
              "      <td>0.617489</td>\n",
              "      <td>0.157930</td>\n",
              "      <td>0.138433</td>\n",
              "      <td>0.102444</td>\n",
              "      <td>0.206824</td>\n",
              "      <td>0.095726</td>\n",
              "      <td>0.669843</td>\n",
              "      <td>-0.034018</td>\n",
              "      <td>-0.036087</td>\n",
              "    </tr>\n",
              "    <tr>\n",
              "      <th>Ease of Online booking</th>\n",
              "      <td>0.000830</td>\n",
              "      <td>0.071594</td>\n",
              "      <td>-0.022299</td>\n",
              "      <td>0.211531</td>\n",
              "      <td>0.001755</td>\n",
              "      <td>0.041189</td>\n",
              "      <td>0.001442</td>\n",
              "      <td>0.601100</td>\n",
              "      <td>0.321731</td>\n",
              "      <td>0.617489</td>\n",
              "      <td>1.000000</td>\n",
              "      <td>0.436264</td>\n",
              "      <td>0.355122</td>\n",
              "      <td>0.398322</td>\n",
              "      <td>0.137744</td>\n",
              "      <td>0.417675</td>\n",
              "      <td>0.684320</td>\n",
              "      <td>-0.036545</td>\n",
              "      <td>-0.039806</td>\n",
              "    </tr>\n",
              "    <tr>\n",
              "      <th>On-board service</th>\n",
              "      <td>0.055978</td>\n",
              "      <td>0.066704</td>\n",
              "      <td>-0.032559</td>\n",
              "      <td>0.121149</td>\n",
              "      <td>0.060446</td>\n",
              "      <td>0.038646</td>\n",
              "      <td>-0.025132</td>\n",
              "      <td>0.060794</td>\n",
              "      <td>0.183912</td>\n",
              "      <td>0.157930</td>\n",
              "      <td>0.436264</td>\n",
              "      <td>1.000000</td>\n",
              "      <td>0.411746</td>\n",
              "      <td>0.530448</td>\n",
              "      <td>0.250839</td>\n",
              "      <td>0.551294</td>\n",
              "      <td>0.139506</td>\n",
              "      <td>-0.037641</td>\n",
              "      <td>-0.041456</td>\n",
              "    </tr>\n",
              "    <tr>\n",
              "      <th>Leg room service</th>\n",
              "      <td>0.042325</td>\n",
              "      <td>0.083762</td>\n",
              "      <td>-0.030316</td>\n",
              "      <td>0.136136</td>\n",
              "      <td>0.029422</td>\n",
              "      <td>0.074161</td>\n",
              "      <td>-0.007407</td>\n",
              "      <td>0.033589</td>\n",
              "      <td>0.160731</td>\n",
              "      <td>0.138433</td>\n",
              "      <td>0.355122</td>\n",
              "      <td>0.411746</td>\n",
              "      <td>1.000000</td>\n",
              "      <td>0.411640</td>\n",
              "      <td>0.167942</td>\n",
              "      <td>0.411505</td>\n",
              "      <td>0.112900</td>\n",
              "      <td>0.003660</td>\n",
              "      <td>0.000472</td>\n",
              "    </tr>\n",
              "    <tr>\n",
              "      <th>Baggage handling</th>\n",
              "      <td>0.074625</td>\n",
              "      <td>-0.015452</td>\n",
              "      <td>0.019768</td>\n",
              "      <td>0.118489</td>\n",
              "      <td>0.067396</td>\n",
              "      <td>0.036370</td>\n",
              "      <td>-0.000401</td>\n",
              "      <td>0.038251</td>\n",
              "      <td>0.117213</td>\n",
              "      <td>0.102444</td>\n",
              "      <td>0.398322</td>\n",
              "      <td>0.530448</td>\n",
              "      <td>0.411640</td>\n",
              "      <td>1.000000</td>\n",
              "      <td>0.240858</td>\n",
              "      <td>0.631803</td>\n",
              "      <td>0.111920</td>\n",
              "      <td>-0.009985</td>\n",
              "      <td>-0.014164</td>\n",
              "    </tr>\n",
              "    <tr>\n",
              "      <th>Checkin service</th>\n",
              "      <td>0.082644</td>\n",
              "      <td>0.031845</td>\n",
              "      <td>0.002456</td>\n",
              "      <td>0.041214</td>\n",
              "      <td>0.062794</td>\n",
              "      <td>0.011898</td>\n",
              "      <td>-0.031859</td>\n",
              "      <td>0.092508</td>\n",
              "      <td>0.224120</td>\n",
              "      <td>0.206824</td>\n",
              "      <td>0.137744</td>\n",
              "      <td>0.250839</td>\n",
              "      <td>0.167942</td>\n",
              "      <td>0.240858</td>\n",
              "      <td>1.000000</td>\n",
              "      <td>0.241734</td>\n",
              "      <td>0.184344</td>\n",
              "      <td>-0.020896</td>\n",
              "      <td>-0.023860</td>\n",
              "    </tr>\n",
              "    <tr>\n",
              "      <th>Cleanliness</th>\n",
              "      <td>0.080834</td>\n",
              "      <td>-0.018271</td>\n",
              "      <td>0.009432</td>\n",
              "      <td>0.108475</td>\n",
              "      <td>0.067126</td>\n",
              "      <td>0.033416</td>\n",
              "      <td>-0.001705</td>\n",
              "      <td>0.038263</td>\n",
              "      <td>0.109451</td>\n",
              "      <td>0.095726</td>\n",
              "      <td>0.417675</td>\n",
              "      <td>0.551294</td>\n",
              "      <td>0.411505</td>\n",
              "      <td>0.631803</td>\n",
              "      <td>0.241734</td>\n",
              "      <td>1.000000</td>\n",
              "      <td>0.106238</td>\n",
              "      <td>-0.062134</td>\n",
              "      <td>-0.067208</td>\n",
              "    </tr>\n",
              "    <tr>\n",
              "      <th>Online boarding</th>\n",
              "      <td>0.025328</td>\n",
              "      <td>0.037973</td>\n",
              "      <td>0.009604</td>\n",
              "      <td>0.130396</td>\n",
              "      <td>-0.000623</td>\n",
              "      <td>0.013587</td>\n",
              "      <td>-0.003043</td>\n",
              "      <td>0.631786</td>\n",
              "      <td>0.355714</td>\n",
              "      <td>0.669843</td>\n",
              "      <td>0.684320</td>\n",
              "      <td>0.139506</td>\n",
              "      <td>0.112900</td>\n",
              "      <td>0.111920</td>\n",
              "      <td>0.184344</td>\n",
              "      <td>0.106238</td>\n",
              "      <td>1.000000</td>\n",
              "      <td>-0.020045</td>\n",
              "      <td>-0.021784</td>\n",
              "    </tr>\n",
              "    <tr>\n",
              "      <th>Departure Delay in Minutes</th>\n",
              "      <td>-0.017643</td>\n",
              "      <td>-0.009041</td>\n",
              "      <td>0.112555</td>\n",
              "      <td>-0.023817</td>\n",
              "      <td>0.004395</td>\n",
              "      <td>-0.013433</td>\n",
              "      <td>0.003962</td>\n",
              "      <td>-0.032900</td>\n",
              "      <td>-0.030491</td>\n",
              "      <td>-0.034018</td>\n",
              "      <td>-0.036545</td>\n",
              "      <td>-0.037641</td>\n",
              "      <td>0.003660</td>\n",
              "      <td>-0.009985</td>\n",
              "      <td>-0.020896</td>\n",
              "      <td>-0.062134</td>\n",
              "      <td>-0.020045</td>\n",
              "      <td>1.000000</td>\n",
              "      <td>0.965291</td>\n",
              "    </tr>\n",
              "    <tr>\n",
              "      <th>Arrival Delay in Minutes</th>\n",
              "      <td>-0.035657</td>\n",
              "      <td>-0.011248</td>\n",
              "      <td>0.110103</td>\n",
              "      <td>-0.025506</td>\n",
              "      <td>0.002599</td>\n",
              "      <td>-0.014881</td>\n",
              "      <td>0.003640</td>\n",
              "      <td>-0.035270</td>\n",
              "      <td>-0.033321</td>\n",
              "      <td>-0.036087</td>\n",
              "      <td>-0.039806</td>\n",
              "      <td>-0.041456</td>\n",
              "      <td>0.000472</td>\n",
              "      <td>-0.014164</td>\n",
              "      <td>-0.023860</td>\n",
              "      <td>-0.067208</td>\n",
              "      <td>-0.021784</td>\n",
              "      <td>0.965291</td>\n",
              "      <td>1.000000</td>\n",
              "    </tr>\n",
              "  </tbody>\n",
              "</table>\n",
              "</div>\n",
              "      <button class=\"colab-df-convert\" onclick=\"convertToInteractive('df-62b2433d-6ddc-4b30-b8cb-6966b4864c67')\"\n",
              "              title=\"Convert this dataframe to an interactive table.\"\n",
              "              style=\"display:none;\">\n",
              "        \n",
              "  <svg xmlns=\"http://www.w3.org/2000/svg\" height=\"24px\"viewBox=\"0 0 24 24\"\n",
              "       width=\"24px\">\n",
              "    <path d=\"M0 0h24v24H0V0z\" fill=\"none\"/>\n",
              "    <path d=\"M18.56 5.44l.94 2.06.94-2.06 2.06-.94-2.06-.94-.94-2.06-.94 2.06-2.06.94zm-11 1L8.5 8.5l.94-2.06 2.06-.94-2.06-.94L8.5 2.5l-.94 2.06-2.06.94zm10 10l.94 2.06.94-2.06 2.06-.94-2.06-.94-.94-2.06-.94 2.06-2.06.94z\"/><path d=\"M17.41 7.96l-1.37-1.37c-.4-.4-.92-.59-1.43-.59-.52 0-1.04.2-1.43.59L10.3 9.45l-7.72 7.72c-.78.78-.78 2.05 0 2.83L4 21.41c.39.39.9.59 1.41.59.51 0 1.02-.2 1.41-.59l7.78-7.78 2.81-2.81c.8-.78.8-2.07 0-2.86zM5.41 20L4 18.59l7.72-7.72 1.47 1.35L5.41 20z\"/>\n",
              "  </svg>\n",
              "      </button>\n",
              "      \n",
              "  <style>\n",
              "    .colab-df-container {\n",
              "      display:flex;\n",
              "      flex-wrap:wrap;\n",
              "      gap: 12px;\n",
              "    }\n",
              "\n",
              "    .colab-df-convert {\n",
              "      background-color: #E8F0FE;\n",
              "      border: none;\n",
              "      border-radius: 50%;\n",
              "      cursor: pointer;\n",
              "      display: none;\n",
              "      fill: #1967D2;\n",
              "      height: 32px;\n",
              "      padding: 0 0 0 0;\n",
              "      width: 32px;\n",
              "    }\n",
              "\n",
              "    .colab-df-convert:hover {\n",
              "      background-color: #E2EBFA;\n",
              "      box-shadow: 0px 1px 2px rgba(60, 64, 67, 0.3), 0px 1px 3px 1px rgba(60, 64, 67, 0.15);\n",
              "      fill: #174EA6;\n",
              "    }\n",
              "\n",
              "    [theme=dark] .colab-df-convert {\n",
              "      background-color: #3B4455;\n",
              "      fill: #D2E3FC;\n",
              "    }\n",
              "\n",
              "    [theme=dark] .colab-df-convert:hover {\n",
              "      background-color: #434B5C;\n",
              "      box-shadow: 0px 1px 3px 1px rgba(0, 0, 0, 0.15);\n",
              "      filter: drop-shadow(0px 1px 2px rgba(0, 0, 0, 0.3));\n",
              "      fill: #FFFFFF;\n",
              "    }\n",
              "  </style>\n",
              "\n",
              "      <script>\n",
              "        const buttonEl =\n",
              "          document.querySelector('#df-62b2433d-6ddc-4b30-b8cb-6966b4864c67 button.colab-df-convert');\n",
              "        buttonEl.style.display =\n",
              "          google.colab.kernel.accessAllowed ? 'block' : 'none';\n",
              "\n",
              "        async function convertToInteractive(key) {\n",
              "          const element = document.querySelector('#df-62b2433d-6ddc-4b30-b8cb-6966b4864c67');\n",
              "          const dataTable =\n",
              "            await google.colab.kernel.invokeFunction('convertToInteractive',\n",
              "                                                     [key], {});\n",
              "          if (!dataTable) return;\n",
              "\n",
              "          const docLinkHtml = 'Like what you see? Visit the ' +\n",
              "            '<a target=\"_blank\" href=https://colab.research.google.com/notebooks/data_table.ipynb>data table notebook</a>'\n",
              "            + ' to learn more about interactive tables.';\n",
              "          element.innerHTML = '';\n",
              "          dataTable['output_type'] = 'display_data';\n",
              "          await google.colab.output.renderOutput(dataTable, element);\n",
              "          const docLink = document.createElement('div');\n",
              "          docLink.innerHTML = docLinkHtml;\n",
              "          element.appendChild(docLink);\n",
              "        }\n",
              "      </script>\n",
              "    </div>\n",
              "  </div>\n",
              "  "
            ]
          },
          "metadata": {},
          "execution_count": 5
        }
      ],
      "source": [
        "df_corr = df.corr()\n",
        "df_corr"
      ]
    },
    {
      "cell_type": "code",
      "execution_count": null,
      "metadata": {
        "colab": {
          "base_uri": "https://localhost:8080/",
          "height": 448
        },
        "id": "EGjOfDPo2hv3",
        "outputId": "8dcd2600-0e7f-48fe-f4a6-d34a48513940"
      },
      "outputs": [
        {
          "output_type": "execute_result",
          "data": {
            "text/plain": [
              "<matplotlib.axes._subplots.AxesSubplot at 0x7f16371ded50>"
            ]
          },
          "metadata": {},
          "execution_count": 6
        },
        {
          "output_type": "display_data",
          "data": {
            "text/plain": [
              "<Figure size 432x288 with 2 Axes>"
            ],
            "image/png": "[encoded data removed]"
          },
          "metadata": {
            "needs_background": "light"
          }
        }
      ],
      "source": [
        "import seaborn as sns\n",
        "sns.heatmap(df_corr, cmap = 'YlGnBu')"
      ]
    },
    {
      "cell_type": "code",
      "execution_count": null,
      "metadata": {
        "colab": {
          "base_uri": "https://localhost:8080/"
        },
        "id": "u82l231Zwf46",
        "outputId": "dc689c53-057d-4627-ec2c-72e77b4b8a52"
      },
      "outputs": [
        {
          "output_type": "execute_result",
          "data": {
            "text/plain": [
              "id                                     0\n",
              "satisfaction_v2                        0\n",
              "Gender                                 0\n",
              "Customer Type                          0\n",
              "Age                                    0\n",
              "Type of Travel                         0\n",
              "Class                                  0\n",
              "Flight Distance                        0\n",
              "Seat comfort                           0\n",
              "Departure/Arrival time convenient      0\n",
              "Food and drink                         0\n",
              "Gate location                          0\n",
              "Inflight wifi service                  0\n",
              "Inflight entertainment                 0\n",
              "Online support                         0\n",
              "Ease of Online booking                 0\n",
              "On-board service                       0\n",
              "Leg room service                       0\n",
              "Baggage handling                       0\n",
              "Checkin service                        0\n",
              "Cleanliness                            0\n",
              "Online boarding                        0\n",
              "Departure Delay in Minutes             0\n",
              "Arrival Delay in Minutes             393\n",
              "dtype: int64"
            ]
          },
          "metadata": {},
          "execution_count": 7
        }
      ],
      "source": [
        "df.isnull().sum()"
      ]
    },
    {
      "cell_type": "code",
      "execution_count": null,
      "metadata": {
        "colab": {
          "base_uri": "https://localhost:8080/"
        },
        "id": "QQCB59VRzFBY",
        "outputId": "79d52f20-1d1b-4d2b-a59d-16eb415630a5"
      },
      "outputs": [
        {
          "output_type": "stream",
          "name": "stdout",
          "text": [
            "Shape of DataFrame before dropping rows with NULL values: (129880, 24)\n",
            "Shape of DataFrame after dropping rows with NULL values: (129487, 24)\n"
          ]
        }
      ],
      "source": [
        "print(\"Shape of DataFrame before dropping rows with NULL values:\", df.shape)\n",
        "df_subset = df[df['Arrival Delay in Minutes'].notnull()]\n",
        "print(\"Shape of DataFrame after dropping rows with NULL values:\", df_subset.shape)"
      ]
    },
    {
      "cell_type": "code",
      "execution_count": null,
      "metadata": {
        "colab": {
          "base_uri": "https://localhost:8080/",
          "height": 438
        },
        "id": "r6taGk_DNFWL",
        "outputId": "a6b45b5a-7204-46ae-89d0-49d5b7253b33"
      },
      "outputs": [
        {
          "output_type": "execute_result",
          "data": {
            "text/plain": [
              "  satisfaction_v2  Gender   Customer Type  Age   Type of Travel     Class  \\\n",
              "0       satisfied  Female  Loyal Customer   65  Personal Travel       Eco   \n",
              "1       satisfied    Male  Loyal Customer   47  Personal Travel  Business   \n",
              "2       satisfied  Female  Loyal Customer   15  Personal Travel       Eco   \n",
              "3       satisfied  Female  Loyal Customer   60  Personal Travel       Eco   \n",
              "4       satisfied  Female  Loyal Customer   70  Personal Travel       Eco   \n",
              "\n",
              "   Flight Distance  Seat comfort  Departure/Arrival time convenient  \\\n",
              "0              265             0                                  0   \n",
              "1             2464             0                                  0   \n",
              "2             2138             0                                  0   \n",
              "3              623             0                                  0   \n",
              "4              354             0                                  0   \n",
              "\n",
              "   Food and drink  ...  Inflight entertainment  Online support  \\\n",
              "0               0  ...                       4               2   \n",
              "1               0  ...                       2               2   \n",
              "2               0  ...                       0               2   \n",
              "3               0  ...                       4               3   \n",
              "4               0  ...                       3               4   \n",
              "\n",
              "   Ease of Online booking  On-board service  Leg room service  \\\n",
              "0                       3                 3                 0   \n",
              "1                       3                 4                 4   \n",
              "2                       2                 3                 3   \n",
              "3                       1                 1                 0   \n",
              "4                       2                 2                 0   \n",
              "\n",
              "   Baggage handling  Checkin service  Cleanliness  Online boarding  \\\n",
              "0                 3                5            3                2   \n",
              "1                 4                2            3                2   \n",
              "2                 4                4            4                2   \n",
              "3                 1                4            1                3   \n",
              "4                 2                4            2                5   \n",
              "\n",
              "   Arrival Delay in Minutes  \n",
              "0                       0.0  \n",
              "1                     305.0  \n",
              "2                       0.0  \n",
              "3                       0.0  \n",
              "4                       0.0  \n",
              "\n",
              "[5 rows x 22 columns]"
            ],
            "text/html": [
              "\n",
              "  <div id=\"df-d3165a9a-e767-41fd-830e-1697b6a6faaf\">\n",
              "    <div class=\"colab-df-container\">\n",
              "      <div>\n",
              "<style scoped>\n",
              "    .dataframe tbody tr th:only-of-type {\n",
              "        vertical-align: middle;\n",
              "    }\n",
              "\n",
              "    .dataframe tbody tr th {\n",
              "        vertical-align: top;\n",
              "    }\n",
              "\n",
              "    .dataframe thead th {\n",
              "        text-align: right;\n",
              "    }\n",
              "</style>\n",
              "<table border=\"1\" class=\"dataframe\">\n",
              "  <thead>\n",
              "    <tr style=\"text-align: right;\">\n",
              "      <th></th>\n",
              "      <th>satisfaction_v2</th>\n",
              "      <th>Gender</th>\n",
              "      <th>Customer Type</th>\n",
              "      <th>Age</th>\n",
              "      <th>Type of Travel</th>\n",
              "      <th>Class</th>\n",
              "      <th>Flight Distance</th>\n",
              "      <th>Seat comfort</th>\n",
              "      <th>Departure/Arrival time convenient</th>\n",
              "      <th>Food and drink</th>\n",
              "      <th>...</th>\n",
              "      <th>Inflight entertainment</th>\n",
              "      <th>Online support</th>\n",
              "      <th>Ease of Online booking</th>\n",
              "      <th>On-board service</th>\n",
              "      <th>Leg room service</th>\n",
              "      <th>Baggage handling</th>\n",
              "      <th>Checkin service</th>\n",
              "      <th>Cleanliness</th>\n",
              "      <th>Online boarding</th>\n",
              "      <th>Arrival Delay in Minutes</th>\n",
              "    </tr>\n",
              "  </thead>\n",
              "  <tbody>\n",
              "    <tr>\n",
              "      <th>0</th>\n",
              "      <td>satisfied</td>\n",
              "      <td>Female</td>\n",
              "      <td>Loyal Customer</td>\n",
              "      <td>65</td>\n",
              "      <td>Personal Travel</td>\n",
              "      <td>Eco</td>\n",
              "      <td>265</td>\n",
              "      <td>0</td>\n",
              "      <td>0</td>\n",
              "      <td>0</td>\n",
              "      <td>...</td>\n",
              "      <td>4</td>\n",
              "      <td>2</td>\n",
              "      <td>3</td>\n",
              "      <td>3</td>\n",
              "      <td>0</td>\n",
              "      <td>3</td>\n",
              "      <td>5</td>\n",
              "      <td>3</td>\n",
              "      <td>2</td>\n",
              "      <td>0.0</td>\n",
              "    </tr>\n",
              "    <tr>\n",
              "      <th>1</th>\n",
              "      <td>satisfied</td>\n",
              "      <td>Male</td>\n",
              "      <td>Loyal Customer</td>\n",
              "      <td>47</td>\n",
              "      <td>Personal Travel</td>\n",
              "      <td>Business</td>\n",
              "      <td>2464</td>\n",
              "      <td>0</td>\n",
              "      <td>0</td>\n",
              "      <td>0</td>\n",
              "      <td>...</td>\n",
              "      <td>2</td>\n",
              "      <td>2</td>\n",
              "      <td>3</td>\n",
              "      <td>4</td>\n",
              "      <td>4</td>\n",
              "      <td>4</td>\n",
              "      <td>2</td>\n",
              "      <td>3</td>\n",
              "      <td>2</td>\n",
              "      <td>305.0</td>\n",
              "    </tr>\n",
              "    <tr>\n",
              "      <th>2</th>\n",
              "      <td>satisfied</td>\n",
              "      <td>Female</td>\n",
              "      <td>Loyal Customer</td>\n",
              "      <td>15</td>\n",
              "      <td>Personal Travel</td>\n",
              "      <td>Eco</td>\n",
              "      <td>2138</td>\n",
              "      <td>0</td>\n",
              "      <td>0</td>\n",
              "      <td>0</td>\n",
              "      <td>...</td>\n",
              "      <td>0</td>\n",
              "      <td>2</td>\n",
              "      <td>2</td>\n",
              "      <td>3</td>\n",
              "      <td>3</td>\n",
              "      <td>4</td>\n",
              "      <td>4</td>\n",
              "      <td>4</td>\n",
              "      <td>2</td>\n",
              "      <td>0.0</td>\n",
              "    </tr>\n",
              "    <tr>\n",
              "      <th>3</th>\n",
              "      <td>satisfied</td>\n",
              "      <td>Female</td>\n",
              "      <td>Loyal Customer</td>\n",
              "      <td>60</td>\n",
              "      <td>Personal Travel</td>\n",
              "      <td>Eco</td>\n",
              "      <td>623</td>\n",
              "      <td>0</td>\n",
              "      <td>0</td>\n",
              "      <td>0</td>\n",
              "      <td>...</td>\n",
              "      <td>4</td>\n",
              "      <td>3</td>\n",
              "      <td>1</td>\n",
              "      <td>1</td>\n",
              "      <td>0</td>\n",
              "      <td>1</td>\n",
              "      <td>4</td>\n",
              "      <td>1</td>\n",
              "      <td>3</td>\n",
              "      <td>0.0</td>\n",
              "    </tr>\n",
              "    <tr>\n",
              "      <th>4</th>\n",
              "      <td>satisfied</td>\n",
              "      <td>Female</td>\n",
              "      <td>Loyal Customer</td>\n",
              "      <td>70</td>\n",
              "      <td>Personal Travel</td>\n",
              "      <td>Eco</td>\n",
              "      <td>354</td>\n",
              "      <td>0</td>\n",
              "      <td>0</td>\n",
              "      <td>0</td>\n",
              "      <td>...</td>\n",
              "      <td>3</td>\n",
              "      <td>4</td>\n",
              "      <td>2</td>\n",
              "      <td>2</td>\n",
              "      <td>0</td>\n",
              "      <td>2</td>\n",
              "      <td>4</td>\n",
              "      <td>2</td>\n",
              "      <td>5</td>\n",
              "      <td>0.0</td>\n",
              "    </tr>\n",
              "  </tbody>\n",
              "</table>\n",
              "<p>5 rows × 22 columns</p>\n",
              "</div>\n",
              "      <button class=\"colab-df-convert\" onclick=\"convertToInteractive('df-d3165a9a-e767-41fd-830e-1697b6a6faaf')\"\n",
              "              title=\"Convert this dataframe to an interactive table.\"\n",
              "              style=\"display:none;\">\n",
              "        \n",
              "  <svg xmlns=\"http://www.w3.org/2000/svg\" height=\"24px\"viewBox=\"0 0 24 24\"\n",
              "       width=\"24px\">\n",
              "    <path d=\"M0 0h24v24H0V0z\" fill=\"none\"/>\n",
              "    <path d=\"M18.56 5.44l.94 2.06.94-2.06 2.06-.94-2.06-.94-.94-2.06-.94 2.06-2.06.94zm-11 1L8.5 8.5l.94-2.06 2.06-.94-2.06-.94L8.5 2.5l-.94 2.06-2.06.94zm10 10l.94 2.06.94-2.06 2.06-.94-2.06-.94-.94-2.06-.94 2.06-2.06.94z\"/><path d=\"M17.41 7.96l-1.37-1.37c-.4-.4-.92-.59-1.43-.59-.52 0-1.04.2-1.43.59L10.3 9.45l-7.72 7.72c-.78.78-.78 2.05 0 2.83L4 21.41c.39.39.9.59 1.41.59.51 0 1.02-.2 1.41-.59l7.78-7.78 2.81-2.81c.8-.78.8-2.07 0-2.86zM5.41 20L4 18.59l7.72-7.72 1.47 1.35L5.41 20z\"/>\n",
              "  </svg>\n",
              "      </button>\n",
              "      \n",
              "  <style>\n",
              "    .colab-df-container {\n",
              "      display:flex;\n",
              "      flex-wrap:wrap;\n",
              "      gap: 12px;\n",
              "    }\n",
              "\n",
              "    .colab-df-convert {\n",
              "      background-color: #E8F0FE;\n",
              "      border: none;\n",
              "      border-radius: 50%;\n",
              "      cursor: pointer;\n",
              "      display: none;\n",
              "      fill: #1967D2;\n",
              "      height: 32px;\n",
              "      padding: 0 0 0 0;\n",
              "      width: 32px;\n",
              "    }\n",
              "\n",
              "    .colab-df-convert:hover {\n",
              "      background-color: #E2EBFA;\n",
              "      box-shadow: 0px 1px 2px rgba(60, 64, 67, 0.3), 0px 1px 3px 1px rgba(60, 64, 67, 0.15);\n",
              "      fill: #174EA6;\n",
              "    }\n",
              "\n",
              "    [theme=dark] .colab-df-convert {\n",
              "      background-color: #3B4455;\n",
              "      fill: #D2E3FC;\n",
              "    }\n",
              "\n",
              "    [theme=dark] .colab-df-convert:hover {\n",
              "      background-color: #434B5C;\n",
              "      box-shadow: 0px 1px 3px 1px rgba(0, 0, 0, 0.15);\n",
              "      filter: drop-shadow(0px 1px 2px rgba(0, 0, 0, 0.3));\n",
              "      fill: #FFFFFF;\n",
              "    }\n",
              "  </style>\n",
              "\n",
              "      <script>\n",
              "        const buttonEl =\n",
              "          document.querySelector('#df-d3165a9a-e767-41fd-830e-1697b6a6faaf button.colab-df-convert');\n",
              "        buttonEl.style.display =\n",
              "          google.colab.kernel.accessAllowed ? 'block' : 'none';\n",
              "\n",
              "        async function convertToInteractive(key) {\n",
              "          const element = document.querySelector('#df-d3165a9a-e767-41fd-830e-1697b6a6faaf');\n",
              "          const dataTable =\n",
              "            await google.colab.kernel.invokeFunction('convertToInteractive',\n",
              "                                                     [key], {});\n",
              "          if (!dataTable) return;\n",
              "\n",
              "          const docLinkHtml = 'Like what you see? Visit the ' +\n",
              "            '<a target=\"_blank\" href=https://colab.research.google.com/notebooks/data_table.ipynb>data table notebook</a>'\n",
              "            + ' to learn more about interactive tables.';\n",
              "          element.innerHTML = '';\n",
              "          dataTable['output_type'] = 'display_data';\n",
              "          await google.colab.output.renderOutput(dataTable, element);\n",
              "          const docLink = document.createElement('div');\n",
              "          docLink.innerHTML = docLinkHtml;\n",
              "          element.appendChild(docLink);\n",
              "        }\n",
              "      </script>\n",
              "    </div>\n",
              "  </div>\n",
              "  "
            ]
          },
          "metadata": {},
          "execution_count": 9
        }
      ],
      "source": [
        "to_drop = [\"id\",\"Departure Delay in Minutes\"]\n",
        "df_subset = df_subset.drop(to_drop, axis=1)\n",
        "df_subset.head()"
      ]
    },
    {
      "cell_type": "code",
      "execution_count": null,
      "metadata": {
        "colab": {
          "base_uri": "https://localhost:8080/"
        },
        "id": "5ijCvDDlLWJl",
        "outputId": "bf8aa2dd-3a9f-4d2f-c9a9-f5f6ae241ab5"
      },
      "outputs": [
        {
          "output_type": "execute_result",
          "data": {
            "text/plain": [
              "array(['Female', 'Male'], dtype=object)"
            ]
          },
          "metadata": {},
          "execution_count": 10
        }
      ],
      "source": [
        "df_subset['Gender'].unique()"
      ]
    },
    {
      "cell_type": "code",
      "execution_count": null,
      "metadata": {
        "colab": {
          "base_uri": "https://localhost:8080/",
          "height": 206
        },
        "id": "lFKF5OBfLvUV",
        "outputId": "872db2ec-8a24-4295-a1bf-7d0b27e9aedc"
      },
      "outputs": [
        {
          "output_type": "execute_result",
          "data": {
            "text/plain": [
              "   Female  Male\n",
              "0       1     0\n",
              "1       0     1\n",
              "2       1     0\n",
              "3       1     0\n",
              "4       1     0"
            ],
            "text/html": [
              "\n",
              "  <div id=\"df-7944729b-6cd5-437c-96cd-db989ca02ca7\">\n",
              "    <div class=\"colab-df-container\">\n",
              "      <div>\n",
              "<style scoped>\n",
              "    .dataframe tbody tr th:only-of-type {\n",
              "        vertical-align: middle;\n",
              "    }\n",
              "\n",
              "    .dataframe tbody tr th {\n",
              "        vertical-align: top;\n",
              "    }\n",
              "\n",
              "    .dataframe thead th {\n",
              "        text-align: right;\n",
              "    }\n",
              "</style>\n",
              "<table border=\"1\" class=\"dataframe\">\n",
              "  <thead>\n",
              "    <tr style=\"text-align: right;\">\n",
              "      <th></th>\n",
              "      <th>Female</th>\n",
              "      <th>Male</th>\n",
              "    </tr>\n",
              "  </thead>\n",
              "  <tbody>\n",
              "    <tr>\n",
              "      <th>0</th>\n",
              "      <td>1</td>\n",
              "      <td>0</td>\n",
              "    </tr>\n",
              "    <tr>\n",
              "      <th>1</th>\n",
              "      <td>0</td>\n",
              "      <td>1</td>\n",
              "    </tr>\n",
              "    <tr>\n",
              "      <th>2</th>\n",
              "      <td>1</td>\n",
              "      <td>0</td>\n",
              "    </tr>\n",
              "    <tr>\n",
              "      <th>3</th>\n",
              "      <td>1</td>\n",
              "      <td>0</td>\n",
              "    </tr>\n",
              "    <tr>\n",
              "      <th>4</th>\n",
              "      <td>1</td>\n",
              "      <td>0</td>\n",
              "    </tr>\n",
              "  </tbody>\n",
              "</table>\n",
              "</div>\n",
              "      <button class=\"colab-df-convert\" onclick=\"convertToInteractive('df-7944729b-6cd5-437c-96cd-db989ca02ca7')\"\n",
              "              title=\"Convert this dataframe to an interactive table.\"\n",
              "              style=\"display:none;\">\n",
              "        \n",
              "  <svg xmlns=\"http://www.w3.org/2000/svg\" height=\"24px\"viewBox=\"0 0 24 24\"\n",
              "       width=\"24px\">\n",
              "    <path d=\"M0 0h24v24H0V0z\" fill=\"none\"/>\n",
              "    <path d=\"M18.56 5.44l.94 2.06.94-2.06 2.06-.94-2.06-.94-.94-2.06-.94 2.06-2.06.94zm-11 1L8.5 8.5l.94-2.06 2.06-.94-2.06-.94L8.5 2.5l-.94 2.06-2.06.94zm10 10l.94 2.06.94-2.06 2.06-.94-2.06-.94-.94-2.06-.94 2.06-2.06.94z\"/><path d=\"M17.41 7.96l-1.37-1.37c-.4-.4-.92-.59-1.43-.59-.52 0-1.04.2-1.43.59L10.3 9.45l-7.72 7.72c-.78.78-.78 2.05 0 2.83L4 21.41c.39.39.9.59 1.41.59.51 0 1.02-.2 1.41-.59l7.78-7.78 2.81-2.81c.8-.78.8-2.07 0-2.86zM5.41 20L4 18.59l7.72-7.72 1.47 1.35L5.41 20z\"/>\n",
              "  </svg>\n",
              "      </button>\n",
              "      \n",
              "  <style>\n",
              "    .colab-df-container {\n",
              "      display:flex;\n",
              "      flex-wrap:wrap;\n",
              "      gap: 12px;\n",
              "    }\n",
              "\n",
              "    .colab-df-convert {\n",
              "      background-color: #E8F0FE;\n",
              "      border: none;\n",
              "      border-radius: 50%;\n",
              "      cursor: pointer;\n",
              "      display: none;\n",
              "      fill: #1967D2;\n",
              "      height: 32px;\n",
              "      padding: 0 0 0 0;\n",
              "      width: 32px;\n",
              "    }\n",
              "\n",
              "    .colab-df-convert:hover {\n",
              "      background-color: #E2EBFA;\n",
              "      box-shadow: 0px 1px 2px rgba(60, 64, 67, 0.3), 0px 1px 3px 1px rgba(60, 64, 67, 0.15);\n",
              "      fill: #174EA6;\n",
              "    }\n",
              "\n",
              "    [theme=dark] .colab-df-convert {\n",
              "      background-color: #3B4455;\n",
              "      fill: #D2E3FC;\n",
              "    }\n",
              "\n",
              "    [theme=dark] .colab-df-convert:hover {\n",
              "      background-color: #434B5C;\n",
              "      box-shadow: 0px 1px 3px 1px rgba(0, 0, 0, 0.15);\n",
              "      filter: drop-shadow(0px 1px 2px rgba(0, 0, 0, 0.3));\n",
              "      fill: #FFFFFF;\n",
              "    }\n",
              "  </style>\n",
              "\n",
              "      <script>\n",
              "        const buttonEl =\n",
              "          document.querySelector('#df-7944729b-6cd5-437c-96cd-db989ca02ca7 button.colab-df-convert');\n",
              "        buttonEl.style.display =\n",
              "          google.colab.kernel.accessAllowed ? 'block' : 'none';\n",
              "\n",
              "        async function convertToInteractive(key) {\n",
              "          const element = document.querySelector('#df-7944729b-6cd5-437c-96cd-db989ca02ca7');\n",
              "          const dataTable =\n",
              "            await google.colab.kernel.invokeFunction('convertToInteractive',\n",
              "                                                     [key], {});\n",
              "          if (!dataTable) return;\n",
              "\n",
              "          const docLinkHtml = 'Like what you see? Visit the ' +\n",
              "            '<a target=\"_blank\" href=https://colab.research.google.com/notebooks/data_table.ipynb>data table notebook</a>'\n",
              "            + ' to learn more about interactive tables.';\n",
              "          element.innerHTML = '';\n",
              "          dataTable['output_type'] = 'display_data';\n",
              "          await google.colab.output.renderOutput(dataTable, element);\n",
              "          const docLink = document.createElement('div');\n",
              "          docLink.innerHTML = docLinkHtml;\n",
              "          element.appendChild(docLink);\n",
              "        }\n",
              "      </script>\n",
              "    </div>\n",
              "  </div>\n",
              "  "
            ]
          },
          "metadata": {},
          "execution_count": 11
        }
      ],
      "source": [
        "Gender_enc = pd.get_dummies(df_subset['Gender'])\n",
        "Gender_enc.head()"
      ]
    },
    {
      "cell_type": "code",
      "execution_count": null,
      "metadata": {
        "colab": {
          "base_uri": "https://localhost:8080/"
        },
        "id": "P-WAbg0uGdxt",
        "outputId": "5ccedcf5-5c4a-47b0-ceec-0cb5c27d7918"
      },
      "outputs": [
        {
          "output_type": "execute_result",
          "data": {
            "text/plain": [
              "array(['Loyal Customer', 'disloyal Customer'], dtype=object)"
            ]
          },
          "metadata": {},
          "execution_count": 12
        }
      ],
      "source": [
        "df_subset['Customer Type'].unique()"
      ]
    },
    {
      "cell_type": "code",
      "execution_count": null,
      "metadata": {
        "colab": {
          "base_uri": "https://localhost:8080/"
        },
        "id": "hQbw9lovHBL7",
        "outputId": "0b614df1-4e8e-4a9e-fc52-8470e69e5c84"
      },
      "outputs": [
        {
          "output_type": "stream",
          "name": "stdout",
          "text": [
            "0    1\n",
            "1    1\n",
            "2    1\n",
            "3    1\n",
            "4    1\n",
            "Name: Customer Type, dtype: int64\n"
          ]
        }
      ],
      "source": [
        "df_subset['Customer Type'] = df_subset['Customer Type'].map({'Loyal Customer':1, 'disloyal Customer':0})\n",
        "print(df_subset['Customer Type'].head())"
      ]
    },
    {
      "cell_type": "code",
      "execution_count": null,
      "metadata": {
        "colab": {
          "base_uri": "https://localhost:8080/"
        },
        "id": "aDdkgXuJMohn",
        "outputId": "fef9a297-65e6-4a3e-d0d9-e371a1f8cf22"
      },
      "outputs": [
        {
          "output_type": "execute_result",
          "data": {
            "text/plain": [
              "array(['Personal Travel', 'Business travel'], dtype=object)"
            ]
          },
          "metadata": {},
          "execution_count": 14
        }
      ],
      "source": [
        "df_subset['Type of Travel'].unique()"
      ]
    },
    {
      "cell_type": "code",
      "execution_count": null,
      "metadata": {
        "colab": {
          "base_uri": "https://localhost:8080/",
          "height": 206
        },
        "id": "0oyI6TYOMwyA",
        "outputId": "505d4ec1-a7e7-45bc-916c-18577b579b46"
      },
      "outputs": [
        {
          "output_type": "execute_result",
          "data": {
            "text/plain": [
              "   Business travel  Personal Travel\n",
              "0                0                1\n",
              "1                0                1\n",
              "2                0                1\n",
              "3                0                1\n",
              "4                0                1"
            ],
            "text/html": [
              "\n",
              "  <div id=\"df-68f72336-4663-4a5e-8152-64ed562bcb36\">\n",
              "    <div class=\"colab-df-container\">\n",
              "      <div>\n",
              "<style scoped>\n",
              "    .dataframe tbody tr th:only-of-type {\n",
              "        vertical-align: middle;\n",
              "    }\n",
              "\n",
              "    .dataframe tbody tr th {\n",
              "        vertical-align: top;\n",
              "    }\n",
              "\n",
              "    .dataframe thead th {\n",
              "        text-align: right;\n",
              "    }\n",
              "</style>\n",
              "<table border=\"1\" class=\"dataframe\">\n",
              "  <thead>\n",
              "    <tr style=\"text-align: right;\">\n",
              "      <th></th>\n",
              "      <th>Business travel</th>\n",
              "      <th>Personal Travel</th>\n",
              "    </tr>\n",
              "  </thead>\n",
              "  <tbody>\n",
              "    <tr>\n",
              "      <th>0</th>\n",
              "      <td>0</td>\n",
              "      <td>1</td>\n",
              "    </tr>\n",
              "    <tr>\n",
              "      <th>1</th>\n",
              "      <td>0</td>\n",
              "      <td>1</td>\n",
              "    </tr>\n",
              "    <tr>\n",
              "      <th>2</th>\n",
              "      <td>0</td>\n",
              "      <td>1</td>\n",
              "    </tr>\n",
              "    <tr>\n",
              "      <th>3</th>\n",
              "      <td>0</td>\n",
              "      <td>1</td>\n",
              "    </tr>\n",
              "    <tr>\n",
              "      <th>4</th>\n",
              "      <td>0</td>\n",
              "      <td>1</td>\n",
              "    </tr>\n",
              "  </tbody>\n",
              "</table>\n",
              "</div>\n",
              "      <button class=\"colab-df-convert\" onclick=\"convertToInteractive('df-68f72336-4663-4a5e-8152-64ed562bcb36')\"\n",
              "              title=\"Convert this dataframe to an interactive table.\"\n",
              "              style=\"display:none;\">\n",
              "        \n",
              "  <svg xmlns=\"http://www.w3.org/2000/svg\" height=\"24px\"viewBox=\"0 0 24 24\"\n",
              "       width=\"24px\">\n",
              "    <path d=\"M0 0h24v24H0V0z\" fill=\"none\"/>\n",
              "    <path d=\"M18.56 5.44l.94 2.06.94-2.06 2.06-.94-2.06-.94-.94-2.06-.94 2.06-2.06.94zm-11 1L8.5 8.5l.94-2.06 2.06-.94-2.06-.94L8.5 2.5l-.94 2.06-2.06.94zm10 10l.94 2.06.94-2.06 2.06-.94-2.06-.94-.94-2.06-.94 2.06-2.06.94z\"/><path d=\"M17.41 7.96l-1.37-1.37c-.4-.4-.92-.59-1.43-.59-.52 0-1.04.2-1.43.59L10.3 9.45l-7.72 7.72c-.78.78-.78 2.05 0 2.83L4 21.41c.39.39.9.59 1.41.59.51 0 1.02-.2 1.41-.59l7.78-7.78 2.81-2.81c.8-.78.8-2.07 0-2.86zM5.41 20L4 18.59l7.72-7.72 1.47 1.35L5.41 20z\"/>\n",
              "  </svg>\n",
              "      </button>\n",
              "      \n",
              "  <style>\n",
              "    .colab-df-container {\n",
              "      display:flex;\n",
              "      flex-wrap:wrap;\n",
              "      gap: 12px;\n",
              "    }\n",
              "\n",
              "    .colab-df-convert {\n",
              "      background-color: #E8F0FE;\n",
              "      border: none;\n",
              "      border-radius: 50%;\n",
              "      cursor: pointer;\n",
              "      display: none;\n",
              "      fill: #1967D2;\n",
              "      height: 32px;\n",
              "      padding: 0 0 0 0;\n",
              "      width: 32px;\n",
              "    }\n",
              "\n",
              "    .colab-df-convert:hover {\n",
              "      background-color: #E2EBFA;\n",
              "      box-shadow: 0px 1px 2px rgba(60, 64, 67, 0.3), 0px 1px 3px 1px rgba(60, 64, 67, 0.15);\n",
              "      fill: #174EA6;\n",
              "    }\n",
              "\n",
              "    [theme=dark] .colab-df-convert {\n",
              "      background-color: #3B4455;\n",
              "      fill: #D2E3FC;\n",
              "    }\n",
              "\n",
              "    [theme=dark] .colab-df-convert:hover {\n",
              "      background-color: #434B5C;\n",
              "      box-shadow: 0px 1px 3px 1px rgba(0, 0, 0, 0.15);\n",
              "      filter: drop-shadow(0px 1px 2px rgba(0, 0, 0, 0.3));\n",
              "      fill: #FFFFFF;\n",
              "    }\n",
              "  </style>\n",
              "\n",
              "      <script>\n",
              "        const buttonEl =\n",
              "          document.querySelector('#df-68f72336-4663-4a5e-8152-64ed562bcb36 button.colab-df-convert');\n",
              "        buttonEl.style.display =\n",
              "          google.colab.kernel.accessAllowed ? 'block' : 'none';\n",
              "\n",
              "        async function convertToInteractive(key) {\n",
              "          const element = document.querySelector('#df-68f72336-4663-4a5e-8152-64ed562bcb36');\n",
              "          const dataTable =\n",
              "            await google.colab.kernel.invokeFunction('convertToInteractive',\n",
              "                                                     [key], {});\n",
              "          if (!dataTable) return;\n",
              "\n",
              "          const docLinkHtml = 'Like what you see? Visit the ' +\n",
              "            '<a target=\"_blank\" href=https://colab.research.google.com/notebooks/data_table.ipynb>data table notebook</a>'\n",
              "            + ' to learn more about interactive tables.';\n",
              "          element.innerHTML = '';\n",
              "          dataTable['output_type'] = 'display_data';\n",
              "          await google.colab.output.renderOutput(dataTable, element);\n",
              "          const docLink = document.createElement('div');\n",
              "          docLink.innerHTML = docLinkHtml;\n",
              "          element.appendChild(docLink);\n",
              "        }\n",
              "      </script>\n",
              "    </div>\n",
              "  </div>\n",
              "  "
            ]
          },
          "metadata": {},
          "execution_count": 15
        }
      ],
      "source": [
        "TypeofTravel_enc = pd.get_dummies(df_subset['Type of Travel'])\n",
        "TypeofTravel_enc.head()"
      ]
    },
    {
      "cell_type": "code",
      "execution_count": null,
      "metadata": {
        "colab": {
          "base_uri": "https://localhost:8080/"
        },
        "id": "nYGlbdIIK8io",
        "outputId": "572cfcef-b4b2-4c6d-a414-7fa545d34d89"
      },
      "outputs": [
        {
          "output_type": "execute_result",
          "data": {
            "text/plain": [
              "array(['Eco', 'Business', 'Eco Plus'], dtype=object)"
            ]
          },
          "metadata": {},
          "execution_count": 16
        }
      ],
      "source": [
        "df_subset['Class'].unique()"
      ]
    },
    {
      "cell_type": "code",
      "execution_count": null,
      "metadata": {
        "colab": {
          "base_uri": "https://localhost:8080/"
        },
        "id": "s9mC5S-pJ0OK",
        "outputId": "903d4c56-8414-4d92-9894-0b99add65505"
      },
      "outputs": [
        {
          "output_type": "stream",
          "name": "stdout",
          "text": [
            "0    0\n",
            "1    2\n",
            "2    0\n",
            "3    0\n",
            "4    0\n",
            "Name: Class, dtype: int64\n"
          ]
        }
      ],
      "source": [
        "df_subset['Class'] = df_subset['Class'].map({'Eco':0, 'Eco Plus':1, 'Business':2})\n",
        "print(df_subset['Class'].head())"
      ]
    },
    {
      "cell_type": "code",
      "execution_count": null,
      "metadata": {
        "colab": {
          "base_uri": "https://localhost:8080/"
        },
        "id": "vi6-AADRCuyv",
        "outputId": "dc2f2a8c-8f99-4f9d-f7d4-9b374243820a"
      },
      "outputs": [
        {
          "output_type": "execute_result",
          "data": {
            "text/plain": [
              "array(['satisfied', 'neutral or dissatisfied'], dtype=object)"
            ]
          },
          "metadata": {},
          "execution_count": 18
        }
      ],
      "source": [
        "df_subset['satisfaction_v2'].unique()"
      ]
    },
    {
      "cell_type": "code",
      "execution_count": null,
      "metadata": {
        "colab": {
          "base_uri": "https://localhost:8080/"
        },
        "id": "Ua_BwHC7DA14",
        "outputId": "c18bf779-dc9d-4b66-99ee-7b89ffbe12df"
      },
      "outputs": [
        {
          "output_type": "stream",
          "name": "stdout",
          "text": [
            "0    1\n",
            "1    1\n",
            "2    1\n",
            "3    1\n",
            "4    1\n",
            "Name: satisfaction_v2, dtype: int64\n"
          ]
        }
      ],
      "source": [
        "df_subset['satisfaction_v2'] = df_subset['satisfaction_v2'].map({'neutral or dissatisfied':0, 'satisfied':1})\n",
        "print(df_subset['satisfaction_v2'].head())"
      ]
    },
    {
      "cell_type": "code",
      "execution_count": null,
      "metadata": {
        "colab": {
          "base_uri": "https://localhost:8080/",
          "height": 713
        },
        "id": "EgcPiOFKQVR8",
        "outputId": "35ef98c0-7369-49a0-ebbc-992c9ea0e2d2"
      },
      "outputs": [
        {
          "output_type": "execute_result",
          "data": {
            "text/plain": [
              "       satisfaction_v2  Gender  Customer Type  Age   Type of Travel  Class  \\\n",
              "0                    1  Female              1   65  Personal Travel      0   \n",
              "1                    1    Male              1   47  Personal Travel      2   \n",
              "2                    1  Female              1   15  Personal Travel      0   \n",
              "3                    1  Female              1   60  Personal Travel      0   \n",
              "4                    1  Female              1   70  Personal Travel      0   \n",
              "...                ...     ...            ...  ...              ...    ...   \n",
              "20072                0    Male              1   46  Personal Travel      1   \n",
              "20073                1  Female              1    7  Personal Travel      0   \n",
              "20074                0    Male              1   40  Personal Travel      0   \n",
              "20075                0    Male              1   62  Personal Travel      0   \n",
              "20076                1  Female              1   57  Personal Travel      0   \n",
              "\n",
              "       Flight Distance  Seat comfort  Departure/Arrival time convenient  \\\n",
              "0                  265             0                                  0   \n",
              "1                 2464             0                                  0   \n",
              "2                 2138             0                                  0   \n",
              "3                  623             0                                  0   \n",
              "4                  354             0                                  0   \n",
              "...                ...           ...                                ...   \n",
              "20072             1722             3                                  0   \n",
              "20073             1626             1                                  1   \n",
              "20074             1459             3                                  0   \n",
              "20075             1486             3                                  0   \n",
              "20076              441             1                                  1   \n",
              "\n",
              "       Food and drink  ...  Inflight entertainment  Online support  \\\n",
              "0                   0  ...                       4               2   \n",
              "1                   0  ...                       2               2   \n",
              "2                   0  ...                       0               2   \n",
              "3                   0  ...                       4               3   \n",
              "4                   0  ...                       3               4   \n",
              "...               ...  ...                     ...             ...   \n",
              "20072               3  ...                       3               1   \n",
              "20073               1  ...                       4               4   \n",
              "20074               3  ...                       3               1   \n",
              "20075               3  ...                       3               2   \n",
              "20076               1  ...                       5               4   \n",
              "\n",
              "       Ease of Online booking  On-board service  Leg room service  \\\n",
              "0                           3                 3                 0   \n",
              "1                           3                 4                 4   \n",
              "2                           2                 3                 3   \n",
              "3                           1                 1                 0   \n",
              "4                           2                 2                 0   \n",
              "...                       ...               ...               ...   \n",
              "20072                       5                 5                 2   \n",
              "20073                       4                 4                 5   \n",
              "20074                       3                 4                 4   \n",
              "20075                       2                 3                 4   \n",
              "20076                       4                 4                 4   \n",
              "\n",
              "       Baggage handling  Checkin service  Cleanliness  Online boarding  \\\n",
              "0                     3                5            3                2   \n",
              "1                     4                2            3                2   \n",
              "2                     4                4            4                2   \n",
              "3                     1                4            1                3   \n",
              "4                     2                4            2                5   \n",
              "...                 ...              ...          ...              ...   \n",
              "20072                 5                5            4                5   \n",
              "20073                 4                3            4                4   \n",
              "20074                 3                4            5                3   \n",
              "20075                 5                4            5                2   \n",
              "20076                 3                4            4                4   \n",
              "\n",
              "       Arrival Delay in Minutes  \n",
              "0                           0.0  \n",
              "1                         305.0  \n",
              "2                           0.0  \n",
              "3                           0.0  \n",
              "4                           0.0  \n",
              "...                         ...  \n",
              "20072                       0.0  \n",
              "20073                      13.0  \n",
              "20074                      19.0  \n",
              "20075                       0.0  \n",
              "20076                       0.0  \n",
              "\n",
              "[20000 rows x 22 columns]"
            ],
            "text/html": [
              "\n",
              "  <div id=\"df-0b824a73-648d-4d68-8859-eb20b22cf309\">\n",
              "    <div class=\"colab-df-container\">\n",
              "      <div>\n",
              "<style scoped>\n",
              "    .dataframe tbody tr th:only-of-type {\n",
              "        vertical-align: middle;\n",
              "    }\n",
              "\n",
              "    .dataframe tbody tr th {\n",
              "        vertical-align: top;\n",
              "    }\n",
              "\n",
              "    .dataframe thead th {\n",
              "        text-align: right;\n",
              "    }\n",
              "</style>\n",
              "<table border=\"1\" class=\"dataframe\">\n",
              "  <thead>\n",
              "    <tr style=\"text-align: right;\">\n",
              "      <th></th>\n",
              "      <th>satisfaction_v2</th>\n",
              "      <th>Gender</th>\n",
              "      <th>Customer Type</th>\n",
              "      <th>Age</th>\n",
              "      <th>Type of Travel</th>\n",
              "      <th>Class</th>\n",
              "      <th>Flight Distance</th>\n",
              "      <th>Seat comfort</th>\n",
              "      <th>Departure/Arrival time convenient</th>\n",
              "      <th>Food and drink</th>\n",
              "      <th>...</th>\n",
              "      <th>Inflight entertainment</th>\n",
              "      <th>Online support</th>\n",
              "      <th>Ease of Online booking</th>\n",
              "      <th>On-board service</th>\n",
              "      <th>Leg room service</th>\n",
              "      <th>Baggage handling</th>\n",
              "      <th>Checkin service</th>\n",
              "      <th>Cleanliness</th>\n",
              "      <th>Online boarding</th>\n",
              "      <th>Arrival Delay in Minutes</th>\n",
              "    </tr>\n",
              "  </thead>\n",
              "  <tbody>\n",
              "    <tr>\n",
              "      <th>0</th>\n",
              "      <td>1</td>\n",
              "      <td>Female</td>\n",
              "      <td>1</td>\n",
              "      <td>65</td>\n",
              "      <td>Personal Travel</td>\n",
              "      <td>0</td>\n",
              "      <td>265</td>\n",
              "      <td>0</td>\n",
              "      <td>0</td>\n",
              "      <td>0</td>\n",
              "      <td>...</td>\n",
              "      <td>4</td>\n",
              "      <td>2</td>\n",
              "      <td>3</td>\n",
              "      <td>3</td>\n",
              "      <td>0</td>\n",
              "      <td>3</td>\n",
              "      <td>5</td>\n",
              "      <td>3</td>\n",
              "      <td>2</td>\n",
              "      <td>0.0</td>\n",
              "    </tr>\n",
              "    <tr>\n",
              "      <th>1</th>\n",
              "      <td>1</td>\n",
              "      <td>Male</td>\n",
              "      <td>1</td>\n",
              "      <td>47</td>\n",
              "      <td>Personal Travel</td>\n",
              "      <td>2</td>\n",
              "      <td>2464</td>\n",
              "      <td>0</td>\n",
              "      <td>0</td>\n",
              "      <td>0</td>\n",
              "      <td>...</td>\n",
              "      <td>2</td>\n",
              "      <td>2</td>\n",
              "      <td>3</td>\n",
              "      <td>4</td>\n",
              "      <td>4</td>\n",
              "      <td>4</td>\n",
              "      <td>2</td>\n",
              "      <td>3</td>\n",
              "      <td>2</td>\n",
              "      <td>305.0</td>\n",
              "    </tr>\n",
              "    <tr>\n",
              "      <th>2</th>\n",
              "      <td>1</td>\n",
              "      <td>Female</td>\n",
              "      <td>1</td>\n",
              "      <td>15</td>\n",
              "      <td>Personal Travel</td>\n",
              "      <td>0</td>\n",
              "      <td>2138</td>\n",
              "      <td>0</td>\n",
              "      <td>0</td>\n",
              "      <td>0</td>\n",
              "      <td>...</td>\n",
              "      <td>0</td>\n",
              "      <td>2</td>\n",
              "      <td>2</td>\n",
              "      <td>3</td>\n",
              "      <td>3</td>\n",
              "      <td>4</td>\n",
              "      <td>4</td>\n",
              "      <td>4</td>\n",
              "      <td>2</td>\n",
              "      <td>0.0</td>\n",
              "    </tr>\n",
              "    <tr>\n",
              "      <th>3</th>\n",
              "      <td>1</td>\n",
              "      <td>Female</td>\n",
              "      <td>1</td>\n",
              "      <td>60</td>\n",
              "      <td>Personal Travel</td>\n",
              "      <td>0</td>\n",
              "      <td>623</td>\n",
              "      <td>0</td>\n",
              "      <td>0</td>\n",
              "      <td>0</td>\n",
              "      <td>...</td>\n",
              "      <td>4</td>\n",
              "      <td>3</td>\n",
              "      <td>1</td>\n",
              "      <td>1</td>\n",
              "      <td>0</td>\n",
              "      <td>1</td>\n",
              "      <td>4</td>\n",
              "      <td>1</td>\n",
              "      <td>3</td>\n",
              "      <td>0.0</td>\n",
              "    </tr>\n",
              "    <tr>\n",
              "      <th>4</th>\n",
              "      <td>1</td>\n",
              "      <td>Female</td>\n",
              "      <td>1</td>\n",
              "      <td>70</td>\n",
              "      <td>Personal Travel</td>\n",
              "      <td>0</td>\n",
              "      <td>354</td>\n",
              "      <td>0</td>\n",
              "      <td>0</td>\n",
              "      <td>0</td>\n",
              "      <td>...</td>\n",
              "      <td>3</td>\n",
              "      <td>4</td>\n",
              "      <td>2</td>\n",
              "      <td>2</td>\n",
              "      <td>0</td>\n",
              "      <td>2</td>\n",
              "      <td>4</td>\n",
              "      <td>2</td>\n",
              "      <td>5</td>\n",
              "      <td>0.0</td>\n",
              "    </tr>\n",
              "    <tr>\n",
              "      <th>...</th>\n",
              "      <td>...</td>\n",
              "      <td>...</td>\n",
              "      <td>...</td>\n",
              "      <td>...</td>\n",
              "      <td>...</td>\n",
              "      <td>...</td>\n",
              "      <td>...</td>\n",
              "      <td>...</td>\n",
              "      <td>...</td>\n",
              "      <td>...</td>\n",
              "      <td>...</td>\n",
              "      <td>...</td>\n",
              "      <td>...</td>\n",
              "      <td>...</td>\n",
              "      <td>...</td>\n",
              "      <td>...</td>\n",
              "      <td>...</td>\n",
              "      <td>...</td>\n",
              "      <td>...</td>\n",
              "      <td>...</td>\n",
              "      <td>...</td>\n",
              "    </tr>\n",
              "    <tr>\n",
              "      <th>20072</th>\n",
              "      <td>0</td>\n",
              "      <td>Male</td>\n",
              "      <td>1</td>\n",
              "      <td>46</td>\n",
              "      <td>Personal Travel</td>\n",
              "      <td>1</td>\n",
              "      <td>1722</td>\n",
              "      <td>3</td>\n",
              "      <td>0</td>\n",
              "      <td>3</td>\n",
              "      <td>...</td>\n",
              "      <td>3</td>\n",
              "      <td>1</td>\n",
              "      <td>5</td>\n",
              "      <td>5</td>\n",
              "      <td>2</td>\n",
              "      <td>5</td>\n",
              "      <td>5</td>\n",
              "      <td>4</td>\n",
              "      <td>5</td>\n",
              "      <td>0.0</td>\n",
              "    </tr>\n",
              "    <tr>\n",
              "      <th>20073</th>\n",
              "      <td>1</td>\n",
              "      <td>Female</td>\n",
              "      <td>1</td>\n",
              "      <td>7</td>\n",
              "      <td>Personal Travel</td>\n",
              "      <td>0</td>\n",
              "      <td>1626</td>\n",
              "      <td>1</td>\n",
              "      <td>1</td>\n",
              "      <td>1</td>\n",
              "      <td>...</td>\n",
              "      <td>4</td>\n",
              "      <td>4</td>\n",
              "      <td>4</td>\n",
              "      <td>4</td>\n",
              "      <td>5</td>\n",
              "      <td>4</td>\n",
              "      <td>3</td>\n",
              "      <td>4</td>\n",
              "      <td>4</td>\n",
              "      <td>13.0</td>\n",
              "    </tr>\n",
              "    <tr>\n",
              "      <th>20074</th>\n",
              "      <td>0</td>\n",
              "      <td>Male</td>\n",
              "      <td>1</td>\n",
              "      <td>40</td>\n",
              "      <td>Personal Travel</td>\n",
              "      <td>0</td>\n",
              "      <td>1459</td>\n",
              "      <td>3</td>\n",
              "      <td>0</td>\n",
              "      <td>3</td>\n",
              "      <td>...</td>\n",
              "      <td>3</td>\n",
              "      <td>1</td>\n",
              "      <td>3</td>\n",
              "      <td>4</td>\n",
              "      <td>4</td>\n",
              "      <td>3</td>\n",
              "      <td>4</td>\n",
              "      <td>5</td>\n",
              "      <td>3</td>\n",
              "      <td>19.0</td>\n",
              "    </tr>\n",
              "    <tr>\n",
              "      <th>20075</th>\n",
              "      <td>0</td>\n",
              "      <td>Male</td>\n",
              "      <td>1</td>\n",
              "      <td>62</td>\n",
              "      <td>Personal Travel</td>\n",
              "      <td>0</td>\n",
              "      <td>1486</td>\n",
              "      <td>3</td>\n",
              "      <td>0</td>\n",
              "      <td>3</td>\n",
              "      <td>...</td>\n",
              "      <td>3</td>\n",
              "      <td>2</td>\n",
              "      <td>2</td>\n",
              "      <td>3</td>\n",
              "      <td>4</td>\n",
              "      <td>5</td>\n",
              "      <td>4</td>\n",
              "      <td>5</td>\n",
              "      <td>2</td>\n",
              "      <td>0.0</td>\n",
              "    </tr>\n",
              "    <tr>\n",
              "      <th>20076</th>\n",
              "      <td>1</td>\n",
              "      <td>Female</td>\n",
              "      <td>1</td>\n",
              "      <td>57</td>\n",
              "      <td>Personal Travel</td>\n",
              "      <td>0</td>\n",
              "      <td>441</td>\n",
              "      <td>1</td>\n",
              "      <td>1</td>\n",
              "      <td>1</td>\n",
              "      <td>...</td>\n",
              "      <td>5</td>\n",
              "      <td>4</td>\n",
              "      <td>4</td>\n",
              "      <td>4</td>\n",
              "      <td>4</td>\n",
              "      <td>3</td>\n",
              "      <td>4</td>\n",
              "      <td>4</td>\n",
              "      <td>4</td>\n",
              "      <td>0.0</td>\n",
              "    </tr>\n",
              "  </tbody>\n",
              "</table>\n",
              "<p>20000 rows × 22 columns</p>\n",
              "</div>\n",
              "      <button class=\"colab-df-convert\" onclick=\"convertToInteractive('df-0b824a73-648d-4d68-8859-eb20b22cf309')\"\n",
              "              title=\"Convert this dataframe to an interactive table.\"\n",
              "              style=\"display:none;\">\n",
              "        \n",
              "  <svg xmlns=\"http://www.w3.org/2000/svg\" height=\"24px\"viewBox=\"0 0 24 24\"\n",
              "       width=\"24px\">\n",
              "    <path d=\"M0 0h24v24H0V0z\" fill=\"none\"/>\n",
              "    <path d=\"M18.56 5.44l.94 2.06.94-2.06 2.06-.94-2.06-.94-.94-2.06-.94 2.06-2.06.94zm-11 1L8.5 8.5l.94-2.06 2.06-.94-2.06-.94L8.5 2.5l-.94 2.06-2.06.94zm10 10l.94 2.06.94-2.06 2.06-.94-2.06-.94-.94-2.06-.94 2.06-2.06.94z\"/><path d=\"M17.41 7.96l-1.37-1.37c-.4-.4-.92-.59-1.43-.59-.52 0-1.04.2-1.43.59L10.3 9.45l-7.72 7.72c-.78.78-.78 2.05 0 2.83L4 21.41c.39.39.9.59 1.41.59.51 0 1.02-.2 1.41-.59l7.78-7.78 2.81-2.81c.8-.78.8-2.07 0-2.86zM5.41 20L4 18.59l7.72-7.72 1.47 1.35L5.41 20z\"/>\n",
              "  </svg>\n",
              "      </button>\n",
              "      \n",
              "  <style>\n",
              "    .colab-df-container {\n",
              "      display:flex;\n",
              "      flex-wrap:wrap;\n",
              "      gap: 12px;\n",
              "    }\n",
              "\n",
              "    .colab-df-convert {\n",
              "      background-color: #E8F0FE;\n",
              "      border: none;\n",
              "      border-radius: 50%;\n",
              "      cursor: pointer;\n",
              "      display: none;\n",
              "      fill: #1967D2;\n",
              "      height: 32px;\n",
              "      padding: 0 0 0 0;\n",
              "      width: 32px;\n",
              "    }\n",
              "\n",
              "    .colab-df-convert:hover {\n",
              "      background-color: #E2EBFA;\n",
              "      box-shadow: 0px 1px 2px rgba(60, 64, 67, 0.3), 0px 1px 3px 1px rgba(60, 64, 67, 0.15);\n",
              "      fill: #174EA6;\n",
              "    }\n",
              "\n",
              "    [theme=dark] .colab-df-convert {\n",
              "      background-color: #3B4455;\n",
              "      fill: #D2E3FC;\n",
              "    }\n",
              "\n",
              "    [theme=dark] .colab-df-convert:hover {\n",
              "      background-color: #434B5C;\n",
              "      box-shadow: 0px 1px 3px 1px rgba(0, 0, 0, 0.15);\n",
              "      filter: drop-shadow(0px 1px 2px rgba(0, 0, 0, 0.3));\n",
              "      fill: #FFFFFF;\n",
              "    }\n",
              "  </style>\n",
              "\n",
              "      <script>\n",
              "        const buttonEl =\n",
              "          document.querySelector('#df-0b824a73-648d-4d68-8859-eb20b22cf309 button.colab-df-convert');\n",
              "        buttonEl.style.display =\n",
              "          google.colab.kernel.accessAllowed ? 'block' : 'none';\n",
              "\n",
              "        async function convertToInteractive(key) {\n",
              "          const element = document.querySelector('#df-0b824a73-648d-4d68-8859-eb20b22cf309');\n",
              "          const dataTable =\n",
              "            await google.colab.kernel.invokeFunction('convertToInteractive',\n",
              "                                                     [key], {});\n",
              "          if (!dataTable) return;\n",
              "\n",
              "          const docLinkHtml = 'Like what you see? Visit the ' +\n",
              "            '<a target=\"_blank\" href=https://colab.research.google.com/notebooks/data_table.ipynb>data table notebook</a>'\n",
              "            + ' to learn more about interactive tables.';\n",
              "          element.innerHTML = '';\n",
              "          dataTable['output_type'] = 'display_data';\n",
              "          await google.colab.output.renderOutput(dataTable, element);\n",
              "          const docLink = document.createElement('div');\n",
              "          docLink.innerHTML = docLinkHtml;\n",
              "          element.appendChild(docLink);\n",
              "        }\n",
              "      </script>\n",
              "    </div>\n",
              "  </div>\n",
              "  "
            ]
          },
          "metadata": {},
          "execution_count": 20
        }
      ],
      "source": [
        "df_subset.head(20000)"
      ]
    },
    {
      "cell_type": "code",
      "execution_count": null,
      "metadata": {
        "id": "35ouurVeHOTZ"
      },
      "outputs": [],
      "source": [
        "df_intm = pd.merge(df_subset, Gender_enc, left_index=True, right_index=True)"
      ]
    },
    {
      "cell_type": "code",
      "execution_count": null,
      "metadata": {
        "id": "l9fFkM-nMhZa"
      },
      "outputs": [],
      "source": [
        "df_f = pd.merge(df_intm, TypeofTravel_enc, left_index=True, right_index=True)"
      ]
    },
    {
      "cell_type": "code",
      "execution_count": null,
      "metadata": {
        "colab": {
          "base_uri": "https://localhost:8080/",
          "height": 438
        },
        "id": "fkZu3J2XNKUp",
        "outputId": "f86b5192-6628-4cdf-f2ae-bd0e0c2b423e"
      },
      "outputs": [
        {
          "output_type": "execute_result",
          "data": {
            "text/plain": [
              "   satisfaction_v2  Gender  Customer Type  Age   Type of Travel  Class  \\\n",
              "0                1  Female              1   65  Personal Travel      0   \n",
              "1                1    Male              1   47  Personal Travel      2   \n",
              "2                1  Female              1   15  Personal Travel      0   \n",
              "3                1  Female              1   60  Personal Travel      0   \n",
              "4                1  Female              1   70  Personal Travel      0   \n",
              "\n",
              "   Flight Distance  Seat comfort  Departure/Arrival time convenient  \\\n",
              "0              265             0                                  0   \n",
              "1             2464             0                                  0   \n",
              "2             2138             0                                  0   \n",
              "3              623             0                                  0   \n",
              "4              354             0                                  0   \n",
              "\n",
              "   Food and drink  ...  Leg room service  Baggage handling  Checkin service  \\\n",
              "0               0  ...                 0                 3                5   \n",
              "1               0  ...                 4                 4                2   \n",
              "2               0  ...                 3                 4                4   \n",
              "3               0  ...                 0                 1                4   \n",
              "4               0  ...                 0                 2                4   \n",
              "\n",
              "   Cleanliness  Online boarding  Arrival Delay in Minutes  Female  Male  \\\n",
              "0            3                2                       0.0       1     0   \n",
              "1            3                2                     305.0       0     1   \n",
              "2            4                2                       0.0       1     0   \n",
              "3            1                3                       0.0       1     0   \n",
              "4            2                5                       0.0       1     0   \n",
              "\n",
              "   Business travel  Personal Travel  \n",
              "0                0                1  \n",
              "1                0                1  \n",
              "2                0                1  \n",
              "3                0                1  \n",
              "4                0                1  \n",
              "\n",
              "[5 rows x 26 columns]"
            ],
            "text/html": [
              "\n",
              "  <div id=\"df-bbd00071-e816-466f-ad71-2af7517537d0\">\n",
              "    <div class=\"colab-df-container\">\n",
              "      <div>\n",
              "<style scoped>\n",
              "    .dataframe tbody tr th:only-of-type {\n",
              "        vertical-align: middle;\n",
              "    }\n",
              "\n",
              "    .dataframe tbody tr th {\n",
              "        vertical-align: top;\n",
              "    }\n",
              "\n",
              "    .dataframe thead th {\n",
              "        text-align: right;\n",
              "    }\n",
              "</style>\n",
              "<table border=\"1\" class=\"dataframe\">\n",
              "  <thead>\n",
              "    <tr style=\"text-align: right;\">\n",
              "      <th></th>\n",
              "      <th>satisfaction_v2</th>\n",
              "      <th>Gender</th>\n",
              "      <th>Customer Type</th>\n",
              "      <th>Age</th>\n",
              "      <th>Type of Travel</th>\n",
              "      <th>Class</th>\n",
              "      <th>Flight Distance</th>\n",
              "      <th>Seat comfort</th>\n",
              "      <th>Departure/Arrival time convenient</th>\n",
              "      <th>Food and drink</th>\n",
              "      <th>...</th>\n",
              "      <th>Leg room service</th>\n",
              "      <th>Baggage handling</th>\n",
              "      <th>Checkin service</th>\n",
              "      <th>Cleanliness</th>\n",
              "      <th>Online boarding</th>\n",
              "      <th>Arrival Delay in Minutes</th>\n",
              "      <th>Female</th>\n",
              "      <th>Male</th>\n",
              "      <th>Business travel</th>\n",
              "      <th>Personal Travel</th>\n",
              "    </tr>\n",
              "  </thead>\n",
              "  <tbody>\n",
              "    <tr>\n",
              "      <th>0</th>\n",
              "      <td>1</td>\n",
              "      <td>Female</td>\n",
              "      <td>1</td>\n",
              "      <td>65</td>\n",
              "      <td>Personal Travel</td>\n",
              "      <td>0</td>\n",
              "      <td>265</td>\n",
              "      <td>0</td>\n",
              "      <td>0</td>\n",
              "      <td>0</td>\n",
              "      <td>...</td>\n",
              "      <td>0</td>\n",
              "      <td>3</td>\n",
              "      <td>5</td>\n",
              "      <td>3</td>\n",
              "      <td>2</td>\n",
              "      <td>0.0</td>\n",
              "      <td>1</td>\n",
              "      <td>0</td>\n",
              "      <td>0</td>\n",
              "      <td>1</td>\n",
              "    </tr>\n",
              "    <tr>\n",
              "      <th>1</th>\n",
              "      <td>1</td>\n",
              "      <td>Male</td>\n",
              "      <td>1</td>\n",
              "      <td>47</td>\n",
              "      <td>Personal Travel</td>\n",
              "      <td>2</td>\n",
              "      <td>2464</td>\n",
              "      <td>0</td>\n",
              "      <td>0</td>\n",
              "      <td>0</td>\n",
              "      <td>...</td>\n",
              "      <td>4</td>\n",
              "      <td>4</td>\n",
              "      <td>2</td>\n",
              "      <td>3</td>\n",
              "      <td>2</td>\n",
              "      <td>305.0</td>\n",
              "      <td>0</td>\n",
              "      <td>1</td>\n",
              "      <td>0</td>\n",
              "      <td>1</td>\n",
              "    </tr>\n",
              "    <tr>\n",
              "      <th>2</th>\n",
              "      <td>1</td>\n",
              "      <td>Female</td>\n",
              "      <td>1</td>\n",
              "      <td>15</td>\n",
              "      <td>Personal Travel</td>\n",
              "      <td>0</td>\n",
              "      <td>2138</td>\n",
              "      <td>0</td>\n",
              "      <td>0</td>\n",
              "      <td>0</td>\n",
              "      <td>...</td>\n",
              "      <td>3</td>\n",
              "      <td>4</td>\n",
              "      <td>4</td>\n",
              "      <td>4</td>\n",
              "      <td>2</td>\n",
              "      <td>0.0</td>\n",
              "      <td>1</td>\n",
              "      <td>0</td>\n",
              "      <td>0</td>\n",
              "      <td>1</td>\n",
              "    </tr>\n",
              "    <tr>\n",
              "      <th>3</th>\n",
              "      <td>1</td>\n",
              "      <td>Female</td>\n",
              "      <td>1</td>\n",
              "      <td>60</td>\n",
              "      <td>Personal Travel</td>\n",
              "      <td>0</td>\n",
              "      <td>623</td>\n",
              "      <td>0</td>\n",
              "      <td>0</td>\n",
              "      <td>0</td>\n",
              "      <td>...</td>\n",
              "      <td>0</td>\n",
              "      <td>1</td>\n",
              "      <td>4</td>\n",
              "      <td>1</td>\n",
              "      <td>3</td>\n",
              "      <td>0.0</td>\n",
              "      <td>1</td>\n",
              "      <td>0</td>\n",
              "      <td>0</td>\n",
              "      <td>1</td>\n",
              "    </tr>\n",
              "    <tr>\n",
              "      <th>4</th>\n",
              "      <td>1</td>\n",
              "      <td>Female</td>\n",
              "      <td>1</td>\n",
              "      <td>70</td>\n",
              "      <td>Personal Travel</td>\n",
              "      <td>0</td>\n",
              "      <td>354</td>\n",
              "      <td>0</td>\n",
              "      <td>0</td>\n",
              "      <td>0</td>\n",
              "      <td>...</td>\n",
              "      <td>0</td>\n",
              "      <td>2</td>\n",
              "      <td>4</td>\n",
              "      <td>2</td>\n",
              "      <td>5</td>\n",
              "      <td>0.0</td>\n",
              "      <td>1</td>\n",
              "      <td>0</td>\n",
              "      <td>0</td>\n",
              "      <td>1</td>\n",
              "    </tr>\n",
              "  </tbody>\n",
              "</table>\n",
              "<p>5 rows × 26 columns</p>\n",
              "</div>\n",
              "      <button class=\"colab-df-convert\" onclick=\"convertToInteractive('df-bbd00071-e816-466f-ad71-2af7517537d0')\"\n",
              "              title=\"Convert this dataframe to an interactive table.\"\n",
              "              style=\"display:none;\">\n",
              "        \n",
              "  <svg xmlns=\"http://www.w3.org/2000/svg\" height=\"24px\"viewBox=\"0 0 24 24\"\n",
              "       width=\"24px\">\n",
              "    <path d=\"M0 0h24v24H0V0z\" fill=\"none\"/>\n",
              "    <path d=\"M18.56 5.44l.94 2.06.94-2.06 2.06-.94-2.06-.94-.94-2.06-.94 2.06-2.06.94zm-11 1L8.5 8.5l.94-2.06 2.06-.94-2.06-.94L8.5 2.5l-.94 2.06-2.06.94zm10 10l.94 2.06.94-2.06 2.06-.94-2.06-.94-.94-2.06-.94 2.06-2.06.94z\"/><path d=\"M17.41 7.96l-1.37-1.37c-.4-.4-.92-.59-1.43-.59-.52 0-1.04.2-1.43.59L10.3 9.45l-7.72 7.72c-.78.78-.78 2.05 0 2.83L4 21.41c.39.39.9.59 1.41.59.51 0 1.02-.2 1.41-.59l7.78-7.78 2.81-2.81c.8-.78.8-2.07 0-2.86zM5.41 20L4 18.59l7.72-7.72 1.47 1.35L5.41 20z\"/>\n",
              "  </svg>\n",
              "      </button>\n",
              "      \n",
              "  <style>\n",
              "    .colab-df-container {\n",
              "      display:flex;\n",
              "      flex-wrap:wrap;\n",
              "      gap: 12px;\n",
              "    }\n",
              "\n",
              "    .colab-df-convert {\n",
              "      background-color: #E8F0FE;\n",
              "      border: none;\n",
              "      border-radius: 50%;\n",
              "      cursor: pointer;\n",
              "      display: none;\n",
              "      fill: #1967D2;\n",
              "      height: 32px;\n",
              "      padding: 0 0 0 0;\n",
              "      width: 32px;\n",
              "    }\n",
              "\n",
              "    .colab-df-convert:hover {\n",
              "      background-color: #E2EBFA;\n",
              "      box-shadow: 0px 1px 2px rgba(60, 64, 67, 0.3), 0px 1px 3px 1px rgba(60, 64, 67, 0.15);\n",
              "      fill: #174EA6;\n",
              "    }\n",
              "\n",
              "    [theme=dark] .colab-df-convert {\n",
              "      background-color: #3B4455;\n",
              "      fill: #D2E3FC;\n",
              "    }\n",
              "\n",
              "    [theme=dark] .colab-df-convert:hover {\n",
              "      background-color: #434B5C;\n",
              "      box-shadow: 0px 1px 3px 1px rgba(0, 0, 0, 0.15);\n",
              "      filter: drop-shadow(0px 1px 2px rgba(0, 0, 0, 0.3));\n",
              "      fill: #FFFFFF;\n",
              "    }\n",
              "  </style>\n",
              "\n",
              "      <script>\n",
              "        const buttonEl =\n",
              "          document.querySelector('#df-bbd00071-e816-466f-ad71-2af7517537d0 button.colab-df-convert');\n",
              "        buttonEl.style.display =\n",
              "          google.colab.kernel.accessAllowed ? 'block' : 'none';\n",
              "\n",
              "        async function convertToInteractive(key) {\n",
              "          const element = document.querySelector('#df-bbd00071-e816-466f-ad71-2af7517537d0');\n",
              "          const dataTable =\n",
              "            await google.colab.kernel.invokeFunction('convertToInteractive',\n",
              "                                                     [key], {});\n",
              "          if (!dataTable) return;\n",
              "\n",
              "          const docLinkHtml = 'Like what you see? Visit the ' +\n",
              "            '<a target=\"_blank\" href=https://colab.research.google.com/notebooks/data_table.ipynb>data table notebook</a>'\n",
              "            + ' to learn more about interactive tables.';\n",
              "          element.innerHTML = '';\n",
              "          dataTable['output_type'] = 'display_data';\n",
              "          await google.colab.output.renderOutput(dataTable, element);\n",
              "          const docLink = document.createElement('div');\n",
              "          docLink.innerHTML = docLinkHtml;\n",
              "          element.appendChild(docLink);\n",
              "        }\n",
              "      </script>\n",
              "    </div>\n",
              "  </div>\n",
              "  "
            ]
          },
          "metadata": {},
          "execution_count": 23
        }
      ],
      "source": [
        "df_f.shape\n",
        "df_f.head()"
      ]
    },
    {
      "cell_type": "code",
      "execution_count": null,
      "metadata": {
        "id": "5f0Gvvkk_hUC"
      },
      "outputs": [],
      "source": [
        "x_data = df_f[['Customer Type', 'Age', 'Class', 'Flight Distance', 'Seat comfort', 'Departure/Arrival time convenient', 'Food and drink', 'Gate location', 'Inflight wifi service', 'Inflight entertainment', 'Online support', 'Ease of Online booking', 'On-board service', 'Leg room service', 'Baggage handling', 'Checkin service', 'Cleanliness', 'Online boarding', 'Arrival Delay in Minutes', 'Male', 'Female', 'Personal Travel', 'Business travel']]\n",
        "y_data = df_f['satisfaction_v2']"
      ]
    },
    {
      "cell_type": "code",
      "execution_count": null,
      "metadata": {
        "id": "QWrwdY_8SUpv"
      },
      "outputs": [],
      "source": [
        "from sklearn.model_selection import train_test_split\n",
        "x_train, x_test, y_train, y_test = train_test_split(x_data, y_data, test_size = 0.3, shuffle = True)"
      ]
    },
    {
      "cell_type": "code",
      "execution_count": null,
      "metadata": {
        "colab": {
          "base_uri": "https://localhost:8080/"
        },
        "id": "tu60jB-pTAhq",
        "outputId": "63018e10-3221-4faa-efcd-80c4378e4395"
      },
      "outputs": [
        {
          "output_type": "stream",
          "name": "stdout",
          "text": [
            "(90640, 23)\n",
            "(38847, 23)\n"
          ]
        }
      ],
      "source": [
        "print(x_train.shape)\n",
        "print(x_test.shape)"
      ]
    },
    {
      "cell_type": "code",
      "execution_count": null,
      "metadata": {
        "colab": {
          "base_uri": "https://localhost:8080/"
        },
        "id": "iHOx35ASThJQ",
        "outputId": "ac7c12a9-c9f3-4a03-ff77-e58afc47fddc"
      },
      "outputs": [
        {
          "output_type": "execute_result",
          "data": {
            "text/plain": [
              "MinMaxScaler()"
            ]
          },
          "metadata": {},
          "execution_count": 27
        }
      ],
      "source": [
        "#scale train data#\n",
        "from sklearn.preprocessing import MinMaxScaler\n",
        "scaler = MinMaxScaler()\n",
        "scaler.fit(x_train)"
      ]
    },
    {
      "cell_type": "code",
      "execution_count": null,
      "metadata": {
        "id": "R7vVY88BUDMw"
      },
      "outputs": [],
      "source": [
        "#transform train data#\n",
        "x_train_scaled = scaler.transform(x_train)"
      ]
    },
    {
      "cell_type": "code",
      "execution_count": null,
      "metadata": {
        "id": "QwXaLtoxUaox"
      },
      "outputs": [],
      "source": [
        "#transform test data#\n",
        "x_test_scaled = scaler.transform(x_test)"
      ]
    },
    {
      "cell_type": "code",
      "execution_count": null,
      "metadata": {
        "colab": {
          "base_uri": "https://localhost:8080/"
        },
        "id": "Q890g3fsVC0d",
        "outputId": "09ae76a5-0d29-4082-a226-e8a82df5f5c3"
      },
      "outputs": [
        {
          "output_type": "stream",
          "name": "stdout",
          "text": [
            "Test set accuracy:  0.72\n"
          ]
        }
      ],
      "source": [
        "#Pre-Scaled Accuracy using KNN Classfier#\n",
        "from sklearn.neighbors import KNeighborsClassifier\n",
        "x_train, x_test, y_train, y_test = train_test_split(x_data, y_data, test_size = 0.3, shuffle = True)\n",
        "\n",
        "knn=KNeighborsClassifier()\n",
        "knn.fit(x_train, y_train)\n",
        "print(\"Test set accuracy: {: .2f}\" .format(knn.score(x_test, y_test)))\n"
      ]
    },
    {
      "cell_type": "code",
      "execution_count": null,
      "metadata": {
        "colab": {
          "base_uri": "https://localhost:8080/"
        },
        "id": "pLpvOqFEWC8y",
        "outputId": "6392e322-8e17-404b-9a5b-47abd62b527e"
      },
      "outputs": [
        {
          "output_type": "stream",
          "name": "stdout",
          "text": [
            "Test set accuracy:  0.93\n"
          ]
        }
      ],
      "source": [
        "#Post-Scaled Accuracy using KNN Classifier#\n",
        "scaler = MinMaxScaler()\n",
        "scaler.fit(x_train)\n",
        "\n",
        "x_train_scaled = scaler.transform(x_train)\n",
        "\n",
        "x_test_scaled = scaler.transform(x_test)\n",
        "\n",
        "knn.fit(x_train_scaled, y_train)\n",
        "\n",
        "print(\"Test set accuracy: {: .2f}\" .format(knn.score(x_test_scaled, y_test)))\n"
      ]
    },
    {
      "cell_type": "code",
      "execution_count": null,
      "metadata": {
        "id": "GB-a4Ijml04V"
      },
      "outputs": [],
      "source": [
        "#DECISION TREE MODEL#\n",
        "from sklearn.tree import DecisionTreeClassifier\n",
        "clf_DT = DecisionTreeClassifier()"
      ]
    },
    {
      "cell_type": "code",
      "execution_count": null,
      "metadata": {
        "id": "M2jir-2actPI"
      },
      "outputs": [],
      "source": [
        "#Training the Model#\n",
        "clf_DT = clf_DT.fit(x_train_scaled,y_train)"
      ]
    },
    {
      "cell_type": "code",
      "execution_count": null,
      "metadata": {
        "colab": {
          "base_uri": "https://localhost:8080/"
        },
        "id": "nat7UXAHoR7b",
        "outputId": "b203df74-8ed5-4af6-bc6c-b7f78bf18b11"
      },
      "outputs": [
        {
          "output_type": "execute_result",
          "data": {
            "text/plain": [
              "array([0, 0, 0, ..., 1, 1, 1])"
            ]
          },
          "metadata": {},
          "execution_count": 34
        }
      ],
      "source": [
        "#Applying Trained Model#\n",
        "y_predDT = clf_DT.predict(x_test_scaled)\n",
        "y_predDT"
      ]
    },
    {
      "cell_type": "code",
      "execution_count": null,
      "metadata": {
        "colab": {
          "base_uri": "https://localhost:8080/"
        },
        "id": "TFjGAMmFNC3K",
        "outputId": "7037ff11-fd38-423e-aa9f-35fb1f184d3c"
      },
      "outputs": [
        {
          "output_type": "execute_result",
          "data": {
            "text/plain": [
              "0.9383993615980643"
            ]
          },
          "metadata": {},
          "execution_count": 35
        }
      ],
      "source": [
        "#accuracy_score#\n",
        "from sklearn.metrics import accuracy_score\n",
        "acc_score_DT = accuracy_score(y_test, y_predDT)\n",
        "acc_score_DT"
      ]
    },
    {
      "cell_type": "code",
      "execution_count": null,
      "metadata": {
        "colab": {
          "base_uri": "https://localhost:8080/"
        },
        "id": "su20uwODOfFo",
        "outputId": "091956c6-a887-4657-9501-4f18f3254acc"
      },
      "outputs": [
        {
          "output_type": "execute_result",
          "data": {
            "text/plain": [
              "0.9411048689138577"
            ]
          },
          "metadata": {},
          "execution_count": 36
        }
      ],
      "source": [
        "#precision score#\n",
        "from sklearn.metrics import precision_score\n",
        "prec_score_DT = precision_score(y_test,y_predDT)\n",
        "prec_score_DT"
      ]
    },
    {
      "cell_type": "code",
      "execution_count": null,
      "metadata": {
        "colab": {
          "base_uri": "https://localhost:8080/"
        },
        "id": "RlWoFWwhOzYw",
        "outputId": "79a85887-d653-4caf-a2db-177e5283e3b4"
      },
      "outputs": [
        {
          "output_type": "execute_result",
          "data": {
            "text/plain": [
              "0.9465555398596789"
            ]
          },
          "metadata": {},
          "execution_count": 37
        }
      ],
      "source": [
        "#recall score#\n",
        "from sklearn.metrics import recall_score\n",
        "rec_score_DT = recall_score(y_test, y_predDT)\n",
        "rec_score_DT"
      ]
    },
    {
      "cell_type": "code",
      "execution_count": null,
      "metadata": {
        "colab": {
          "base_uri": "https://localhost:8080/"
        },
        "id": "8lcmoUsYpnHZ",
        "outputId": "9aeb5f06-ec80-4c62-89a3-1bec303a5a22"
      },
      "outputs": [
        {
          "output_type": "execute_result",
          "data": {
            "text/plain": [
              "0.943822334906214"
            ]
          },
          "metadata": {},
          "execution_count": 38
        }
      ],
      "source": [
        "#f1 score#\n",
        "from sklearn.metrics import f1_score\n",
        "f1_score_DT = f1_score(y_test, y_predDT)\n",
        "f1_score_DT"
      ]
    },
    {
      "cell_type": "code",
      "execution_count": null,
      "metadata": {
        "colab": {
          "base_uri": "https://localhost:8080/"
        },
        "id": "7CJAREvTPFE4",
        "outputId": "ebce0628-6199-45ef-a7fe-4b366ac562f7"
      },
      "outputs": [
        {
          "output_type": "stream",
          "name": "stdout",
          "text": [
            "                         precision    recall  f1-score   support\n",
            "\n",
            "neutral or dissatisfied       0.94      0.93      0.93     17610\n",
            "              satisfied       0.94      0.95      0.94     21237\n",
            "\n",
            "               accuracy                           0.94     38847\n",
            "              macro avg       0.94      0.94      0.94     38847\n",
            "           weighted avg       0.94      0.94      0.94     38847\n",
            "\n"
          ]
        }
      ],
      "source": [
        "#classification report#\n",
        "from sklearn.metrics import classification_report\n",
        "print(classification_report(y_test, y_predDT, target_names=['neutral or dissatisfied', 'satisfied']))"
      ]
    },
    {
      "cell_type": "code",
      "execution_count": null,
      "metadata": {
        "colab": {
          "base_uri": "https://localhost:8080/"
        },
        "id": "pjXDu7-6qO74",
        "outputId": "60b582f9-4fcd-4cc9-a604-bb62cef16858"
      },
      "outputs": [
        {
          "output_type": "execute_result",
          "data": {
            "text/plain": [
              "array([[16352,  1258],\n",
              "       [ 1135, 20102]])"
            ]
          },
          "metadata": {},
          "execution_count": 40
        }
      ],
      "source": [
        "#confusion matrix#\n",
        "from sklearn.metrics import confusion_matrix\n",
        "cm_DT=confusion_matrix(y_test, y_predDT)\n",
        "cm_DT"
      ]
    },
    {
      "cell_type": "code",
      "execution_count": null,
      "metadata": {
        "colab": {
          "base_uri": "https://localhost:8080/",
          "height": 283
        },
        "id": "3nVevYv1qRTL",
        "outputId": "1ef1f5df-1c7e-4850-c61b-92781e6fc649"
      },
      "outputs": [
        {
          "output_type": "execute_result",
          "data": {
            "text/plain": [
              "<matplotlib.axes._subplots.AxesSubplot at 0x7f161f718c50>"
            ]
          },
          "metadata": {},
          "execution_count": 41
        },
        {
          "output_type": "display_data",
          "data": {
            "text/plain": [
              "<Figure size 432x288 with 2 Axes>"
            ],
            "image/png": "[encoded data removed]"
          },
          "metadata": {
            "needs_background": "light"
          }
        }
      ],
      "source": [
        "#confusion matrix visualisation#\n",
        "import seaborn as sns\n",
        "sns.heatmap(cm_DT/np.sum(cm_DT), annot=True, fmt='.2%', cmap='Blues')"
      ]
    },
    {
      "cell_type": "code",
      "execution_count": null,
      "metadata": {
        "id": "n_j2Sa21s4iX"
      },
      "outputs": [],
      "source": [
        "#LOGISTIC REGRESSION MODEL#\n",
        "from sklearn.linear_model import LogisticRegression\n",
        "clf_LR = LogisticRegression(solver='liblinear')"
      ]
    },
    {
      "cell_type": "code",
      "execution_count": null,
      "metadata": {
        "colab": {
          "base_uri": "https://localhost:8080/"
        },
        "id": "XsyUJHTnE5Hv",
        "outputId": "8c0cfc21-23b2-4ba6-f3db-37ee6b3ae83b"
      },
      "outputs": [
        {
          "output_type": "execute_result",
          "data": {
            "text/plain": [
              "LogisticRegression(solver='liblinear')"
            ]
          },
          "metadata": {},
          "execution_count": 43
        }
      ],
      "source": [
        "#Training the Model#\n",
        "clf_LR.fit(x_train_scaled, y_train)"
      ]
    },
    {
      "cell_type": "code",
      "execution_count": null,
      "metadata": {
        "colab": {
          "base_uri": "https://localhost:8080/"
        },
        "id": "U4GjBJ0-FXWQ",
        "outputId": "0f3acaf8-4b41-4dfd-caae-75d5314e835b"
      },
      "outputs": [
        {
          "output_type": "execute_result",
          "data": {
            "text/plain": [
              "array([1, 0, 0, ..., 1, 1, 1])"
            ]
          },
          "metadata": {},
          "execution_count": 44
        }
      ],
      "source": [
        "#Applying Trained Model#\n",
        "y_predLR = clf_LR.predict(x_test_scaled)\n",
        "y_predLR"
      ]
    },
    {
      "cell_type": "code",
      "execution_count": null,
      "metadata": {
        "colab": {
          "base_uri": "https://localhost:8080/"
        },
        "id": "ISbBHJjRtD7v",
        "outputId": "b81436b0-684a-4692-c3d7-e21760b077cd"
      },
      "outputs": [
        {
          "output_type": "execute_result",
          "data": {
            "text/plain": [
              "0.8363065358972379"
            ]
          },
          "metadata": {},
          "execution_count": 45
        }
      ],
      "source": [
        "#accuracy_score#\n",
        "from sklearn.metrics import accuracy_score\n",
        "acc_score_LR = accuracy_score(y_test, y_predLR)\n",
        "acc_score_LR"
      ]
    },
    {
      "cell_type": "code",
      "execution_count": null,
      "metadata": {
        "colab": {
          "base_uri": "https://localhost:8080/"
        },
        "id": "IaRyVk3tPSsf",
        "outputId": "e00c3607-6168-4fef-a6d7-55fbf0ee2683"
      },
      "outputs": [
        {
          "output_type": "execute_result",
          "data": {
            "text/plain": [
              "0.8496427899981199"
            ]
          },
          "metadata": {},
          "execution_count": 46
        }
      ],
      "source": [
        "#precision score#\n",
        "from sklearn.metrics import precision_score\n",
        "prec_score_LR = precision_score(y_test,y_predLR)\n",
        "prec_score_LR"
      ]
    },
    {
      "cell_type": "code",
      "execution_count": null,
      "metadata": {
        "colab": {
          "base_uri": "https://localhost:8080/"
        },
        "id": "UZGQ0QZ7PTAn",
        "outputId": "cc23ed82-49fc-48b0-b378-7e9e4188c597"
      },
      "outputs": [
        {
          "output_type": "execute_result",
          "data": {
            "text/plain": [
              "0.8512030889485332"
            ]
          },
          "metadata": {},
          "execution_count": 47
        }
      ],
      "source": [
        "#recall score#\n",
        "from sklearn.metrics import recall_score\n",
        "rec_score_LR = recall_score(y_test, y_predLR)\n",
        "rec_score_LR"
      ]
    },
    {
      "cell_type": "code",
      "execution_count": null,
      "metadata": {
        "colab": {
          "base_uri": "https://localhost:8080/"
        },
        "id": "9cemjtLhPTc_",
        "outputId": "39986a2d-45bc-4859-b5de-c10c4044a71e"
      },
      "outputs": [
        {
          "output_type": "execute_result",
          "data": {
            "text/plain": [
              "0.85042222379037"
            ]
          },
          "metadata": {},
          "execution_count": 48
        }
      ],
      "source": [
        "#f1 score#\n",
        "from sklearn.metrics import f1_score\n",
        "f1_score_LR = f1_score(y_test, y_predLR)\n",
        "f1_score_LR"
      ]
    },
    {
      "cell_type": "code",
      "execution_count": null,
      "metadata": {
        "colab": {
          "base_uri": "https://localhost:8080/"
        },
        "id": "_Pf7kBtIPxaG",
        "outputId": "41e83def-64e6-428f-ba7b-9a5b03c9efb3"
      },
      "outputs": [
        {
          "output_type": "stream",
          "name": "stdout",
          "text": [
            "                         precision    recall  f1-score   support\n",
            "\n",
            "neutral or dissatisfied       0.82      0.82      0.82     17610\n",
            "              satisfied       0.85      0.85      0.85     21237\n",
            "\n",
            "               accuracy                           0.84     38847\n",
            "              macro avg       0.83      0.83      0.83     38847\n",
            "           weighted avg       0.84      0.84      0.84     38847\n",
            "\n"
          ]
        }
      ],
      "source": [
        "#classification report#\n",
        "from sklearn.metrics import classification_report\n",
        "print(classification_report(y_test, y_predLR, target_names=['neutral or dissatisfied', 'satisfied']))"
      ]
    },
    {
      "cell_type": "code",
      "execution_count": null,
      "metadata": {
        "colab": {
          "base_uri": "https://localhost:8080/"
        },
        "id": "mOf1-bU1PxsW",
        "outputId": "9a83729b-64ad-4423-aad9-a8d391780b60"
      },
      "outputs": [
        {
          "output_type": "execute_result",
          "data": {
            "text/plain": [
              "array([[14411,  3199],\n",
              "       [ 3160, 18077]])"
            ]
          },
          "metadata": {},
          "execution_count": 50
        }
      ],
      "source": [
        "#confusion matrix#\n",
        "from sklearn.metrics import confusion_matrix\n",
        "cm_LR=confusion_matrix(y_test, y_predLR)\n",
        "cm_LR"
      ]
    },
    {
      "cell_type": "code",
      "execution_count": null,
      "metadata": {
        "colab": {
          "base_uri": "https://localhost:8080/",
          "height": 283
        },
        "id": "d7Z3Gv6yP87f",
        "outputId": "efe9c731-cdba-46a0-850a-7e278ee38341"
      },
      "outputs": [
        {
          "output_type": "execute_result",
          "data": {
            "text/plain": [
              "<matplotlib.axes._subplots.AxesSubplot at 0x7f161f36d490>"
            ]
          },
          "metadata": {},
          "execution_count": 51
        },
        {
          "output_type": "display_data",
          "data": {
            "text/plain": [
              "<Figure size 432x288 with 2 Axes>"
            ],
            "image/png": "[encoded data removed]"
          },
          "metadata": {
            "needs_background": "light"
          }
        }
      ],
      "source": [
        "#confusion matrix visualisation#\n",
        "import seaborn as sns\n",
        "sns.heatmap(cm_LR/np.sum(cm_LR), annot=True, fmt='.2%', cmap='Blues')"
      ]
    },
    {
      "cell_type": "code",
      "execution_count": null,
      "metadata": {
        "id": "D3uBHXt5OM_J"
      },
      "outputs": [],
      "source": [
        "#RANDOM FOREST#\n",
        "from sklearn.ensemble import RandomForestClassifier\n",
        "clf_RF = RandomForestClassifier()"
      ]
    },
    {
      "cell_type": "code",
      "execution_count": null,
      "metadata": {
        "id": "l3FCBcQXgfzK"
      },
      "outputs": [],
      "source": [
        "#Training the Model#\n",
        "clf_RF = clf_RF.fit(x_train_scaled, y_train)"
      ]
    },
    {
      "cell_type": "code",
      "execution_count": null,
      "metadata": {
        "colab": {
          "base_uri": "https://localhost:8080/"
        },
        "id": "iW1lfSNQObK3",
        "outputId": "03bc2594-974e-4bb6-b8c5-2e0414081551"
      },
      "outputs": [
        {
          "output_type": "execute_result",
          "data": {
            "text/plain": [
              "array([0, 0, 0, ..., 1, 1, 1])"
            ]
          },
          "metadata": {},
          "execution_count": 54
        }
      ],
      "source": [
        "#Applying Trained Model#\n",
        "y_predRF = clf_RF.predict(x_test_scaled)\n",
        "y_predRF\n"
      ]
    },
    {
      "cell_type": "code",
      "execution_count": null,
      "metadata": {
        "colab": {
          "base_uri": "https://localhost:8080/"
        },
        "id": "1tTPylJZQI4W",
        "outputId": "c4fd6c32-d711-4e6e-f10c-1e7c1e7cc643"
      },
      "outputs": [
        {
          "output_type": "execute_result",
          "data": {
            "text/plain": [
              "0.9587612943084408"
            ]
          },
          "metadata": {},
          "execution_count": 55
        }
      ],
      "source": [
        "#accuracy_score#\n",
        "from sklearn.metrics import accuracy_score\n",
        "acc_score_RF = accuracy_score(y_test, y_predRF)\n",
        "acc_score_RF"
      ]
    },
    {
      "cell_type": "code",
      "execution_count": null,
      "metadata": {
        "colab": {
          "base_uri": "https://localhost:8080/"
        },
        "id": "sYjJaP50QI0m",
        "outputId": "1f2be4bf-43e1-4136-ab8e-64972ee69730"
      },
      "outputs": [
        {
          "output_type": "execute_result",
          "data": {
            "text/plain": [
              "0.9698492462311558"
            ]
          },
          "metadata": {},
          "execution_count": 56
        }
      ],
      "source": [
        "#precision score#\n",
        "from sklearn.metrics import precision_score\n",
        "prec_score_RF = precision_score(y_test,y_predRF)\n",
        "prec_score_RF"
      ]
    },
    {
      "cell_type": "code",
      "execution_count": null,
      "metadata": {
        "colab": {
          "base_uri": "https://localhost:8080/"
        },
        "id": "cTN4KDorQIve",
        "outputId": "ccec4da1-7f63-4ff9-dcdf-0af882519c36"
      },
      "outputs": [
        {
          "output_type": "execute_result",
          "data": {
            "text/plain": [
              "0.9542308235626501"
            ]
          },
          "metadata": {},
          "execution_count": 57
        }
      ],
      "source": [
        "#recall score#\n",
        "from sklearn.metrics import recall_score\n",
        "rec_score_RF = recall_score(y_test, y_predRF)\n",
        "rec_score_RF"
      ]
    },
    {
      "cell_type": "code",
      "execution_count": null,
      "metadata": {
        "colab": {
          "base_uri": "https://localhost:8080/"
        },
        "id": "kI8HZQbsQIqG",
        "outputId": "4177068b-c976-4eb3-fe6a-b42badcd1efb"
      },
      "outputs": [
        {
          "output_type": "execute_result",
          "data": {
            "text/plain": [
              "0.9619766448305327"
            ]
          },
          "metadata": {},
          "execution_count": 58
        }
      ],
      "source": [
        "#f1 score#\n",
        "from sklearn.metrics import f1_score\n",
        "f1_score_RF = f1_score(y_test, y_predRF)\n",
        "f1_score_RF"
      ]
    },
    {
      "cell_type": "code",
      "execution_count": null,
      "metadata": {
        "colab": {
          "base_uri": "https://localhost:8080/"
        },
        "id": "ZKkYpKKcQIkH",
        "outputId": "c4f95b5f-1635-4a0b-c544-ab9d81f2fbb1"
      },
      "outputs": [
        {
          "output_type": "stream",
          "name": "stdout",
          "text": [
            "                         precision    recall  f1-score   support\n",
            "\n",
            "neutral or dissatisfied       0.95      0.96      0.95     17610\n",
            "              satisfied       0.97      0.95      0.96     21237\n",
            "\n",
            "               accuracy                           0.96     38847\n",
            "              macro avg       0.96      0.96      0.96     38847\n",
            "           weighted avg       0.96      0.96      0.96     38847\n",
            "\n"
          ]
        }
      ],
      "source": [
        "#classification report#\n",
        "from sklearn.metrics import classification_report\n",
        "print(classification_report(y_test, y_predRF, target_names=['neutral or dissatisfied', 'satisfied']))"
      ]
    },
    {
      "cell_type": "code",
      "execution_count": null,
      "metadata": {
        "colab": {
          "base_uri": "https://localhost:8080/"
        },
        "id": "kCiOE6w0QIMn",
        "outputId": "7c844531-6a19-448f-f5f0-a232b73d2526"
      },
      "outputs": [
        {
          "output_type": "execute_result",
          "data": {
            "text/plain": [
              "array([[16980,   630],\n",
              "       [  972, 20265]])"
            ]
          },
          "metadata": {},
          "execution_count": 60
        }
      ],
      "source": [
        "#confusion matrix#\n",
        "from sklearn.metrics import confusion_matrix\n",
        "cm_RF=confusion_matrix(y_test, y_predRF)\n",
        "cm_RF"
      ]
    },
    {
      "cell_type": "code",
      "execution_count": null,
      "metadata": {
        "colab": {
          "base_uri": "https://localhost:8080/",
          "height": 283
        },
        "id": "YHWNqoHoQXso",
        "outputId": "2ce97b05-a070-480f-d73c-f79b1523ac40"
      },
      "outputs": [
        {
          "output_type": "execute_result",
          "data": {
            "text/plain": [
              "<matplotlib.axes._subplots.AxesSubplot at 0x7f161f7f0c10>"
            ]
          },
          "metadata": {},
          "execution_count": 61
        },
        {
          "output_type": "display_data",
          "data": {
            "text/plain": [
              "<Figure size 432x288 with 2 Axes>"
            ],
            "image/png": "[encoded data removed]"
          },
          "metadata": {
            "needs_background": "light"
          }
        }
      ],
      "source": [
        "#confusion matrix visualisation#\n",
        "import seaborn as sns\n",
        "sns.heatmap(cm_RF/np.sum(cm_RF), annot=True, fmt='.2%', cmap='Blues')"
      ]
    },
    {
      "cell_type": "code",
      "execution_count": null,
      "metadata": {
        "colab": {
          "base_uri": "https://localhost:8080/",
          "height": 350
        },
        "id": "EheNvNunVozf",
        "outputId": "928affdd-3c2d-47df-c4e7-875bfb41371d"
      },
      "outputs": [
        {
          "output_type": "display_data",
          "data": {
            "text/plain": [
              "<Figure size 720x360 with 1 Axes>"
            ],
            "image/png": "[encoded data removed]"
          },
          "metadata": {
            "needs_background": "light"
          }
        }
      ],
      "source": [
        "#Accuracy Score Comparison#\n",
        "data = {'Decision Tree':acc_score_DT, 'Logistic Regression': acc_score_LR, 'Random Forest': acc_score_RF}\n",
        "acc_scores = list(data.keys())\n",
        "values = list(data.values())\n",
        "  \n",
        "fig = plt.figure(figsize = (10, 5))\n",
        " \n",
        "# creating the bar plot\n",
        "plt.bar(acc_scores, values, color =(0.2, 0.4, 0.6, 0.6), width = 0.4)\n",
        " \n",
        "plt.xlabel(\"Model Training Algorithm\")\n",
        "plt.ylabel(\"Accuracy Score\")\n",
        "plt.title(\"Accuracy Scores Comparison of Model Trainning Algorithms\")\n",
        "plt.show()"
      ]
    },
    {
      "cell_type": "code",
      "execution_count": null,
      "metadata": {
        "colab": {
          "base_uri": "https://localhost:8080/",
          "height": 350
        },
        "id": "qLjzlLP3coac",
        "outputId": "97115642-d343-4cb2-90da-132cb79c6052"
      },
      "outputs": [
        {
          "output_type": "display_data",
          "data": {
            "text/plain": [
              "<Figure size 720x360 with 1 Axes>"
            ],
            "image/png": "[encoded data removed]"
          },
          "metadata": {
            "needs_background": "light"
          }
        }
      ],
      "source": [
        "#Precision Score Comparison#\n",
        "data = {'Decision Tree':prec_score_DT, 'Logistic Regression': prec_score_LR, 'Random Forest': prec_score_RF}\n",
        "prec_scores = list(data.keys())\n",
        "values = list(data.values())\n",
        "  \n",
        "fig = plt.figure(figsize = (10, 5))\n",
        " \n",
        "# creating the bar plot\n",
        "plt.bar(prec_scores, values, color =(0.2, 0.4, 0.6, 0.6), width = 0.4)\n",
        " \n",
        "plt.xlabel(\"Model Training Algorithm\")\n",
        "plt.ylabel(\"Precision Score\")\n",
        "plt.title(\"Precision Scores Comparison of Model Trainning Algorithms\")\n",
        "plt.show()"
      ]
    },
    {
      "cell_type": "code",
      "execution_count": null,
      "metadata": {
        "colab": {
          "base_uri": "https://localhost:8080/",
          "height": 350
        },
        "id": "GkFkfINRdPtl",
        "outputId": "0b141769-15fc-427f-ed7b-ad0970295b05"
      },
      "outputs": [
        {
          "output_type": "display_data",
          "data": {
            "text/plain": [
              "<Figure size 720x360 with 1 Axes>"
            ],
            "image/png": "[encoded data removed]"
          },
          "metadata": {
            "needs_background": "light"
          }
        }
      ],
      "source": [
        "#Recall Score Comparison#\n",
        "data = {'Decision Tree':rec_score_DT, 'Logistic Regression': rec_score_LR, 'Random Forest': rec_score_RF}\n",
        "rec_scores = list(data.keys())\n",
        "values = list(data.values())\n",
        "  \n",
        "fig = plt.figure(figsize = (10, 5))\n",
        " \n",
        "# creating the bar plot\n",
        "plt.bar(rec_scores, values, color =(0.2, 0.4, 0.6, 0.6), width = 0.4)\n",
        " \n",
        "plt.xlabel(\"Model Training Algorithm\")\n",
        "plt.ylabel(\"Recall Score\")\n",
        "plt.title(\"Recall Scores Comparison of Model Trainning Algorithms\")\n",
        "plt.show()"
      ]
    },
    {
      "cell_type": "code",
      "execution_count": null,
      "metadata": {
        "colab": {
          "base_uri": "https://localhost:8080/",
          "height": 350
        },
        "id": "-DetUIXqdhZr",
        "outputId": "71630647-a455-40d3-aedc-c5085cc50412"
      },
      "outputs": [
        {
          "output_type": "display_data",
          "data": {
            "text/plain": [
              "<Figure size 720x360 with 1 Axes>"
            ],
            "image/png": "[encoded data removed]"
          },
          "metadata": {
            "needs_background": "light"
          }
        }
      ],
      "source": [
        "#F1-Score Comparison#\n",
        "data = {'Decsion Tree':f1_score_DT, 'Logistic Regression': f1_score_LR, 'Random Forest': f1_score_RF}\n",
        "f1_scores = list(data.keys())\n",
        "values = list(data.values())\n",
        "  \n",
        "fig = plt.figure(figsize = (10, 5))\n",
        " \n",
        "# creating the bar plot\n",
        "plt.bar(f1_scores, values, color =(0.2, 0.4, 0.6, 0.6), width = 0.4)\n",
        " \n",
        "plt.xlabel(\"Model Training Algorithm\")\n",
        "plt.ylabel(\"F1 Score\")\n",
        "plt.title(\"F1 Scores Comparison of Model Trainning Algorithms\")\n",
        "plt.show()"
      ]
    }
  ],
  "metadata": {
    "colab": {
      "provenance": []
    },
    "kernelspec": {
      "display_name": "Python 3",
      "name": "python3"
    },
    "language_info": {
      "name": "python"
    }
  },
  "nbformat": 4,
  "nbformat_minor": 0
}